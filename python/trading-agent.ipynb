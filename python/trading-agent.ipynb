{
 "cells": [
  {
   "cell_type": "markdown",
   "metadata": {
    "id": "sYZ1lwUagkAy"
   },
   "source": [
    "# Autonomous Trading Agents - With 0xMONK from FereAI\n",
    "\n",
    "<a target=\"_blank\" href=\"https://colab.research.google.com/github/fere-ai/agentic-examples/blob/main/python/trading-agent.ipynb\">\n",
    "  <img src=\"https://colab.research.google.com/assets/colab-badge.svg\" alt=\"Open In Colab\"/>\n",
    "</a>\n",
    "\n",
    "This notebook demonstrates the ease of building autonomous trading agents. It's super easy using the `0xMONK` APIs from FereAI.\n",
    "\n",
    "- [Developer Docs](https://docs.fereai.xyz/docs/api/api-introduction)\n",
    "- [Get Your API Key](https://docs.google.com/forms/d/e/1FAIpQLScFAWfT5u2kwKx8tQkkL9AfdP8NIlNIn6tXJUQcRipZEUZokA/viewform)\n",
    "- [#dev-help on our Discord](https://discord.com/invite/3fsm5XJNW8)"
   ]
  },
  {
   "cell_type": "code",
   "execution_count": null,
   "metadata": {
    "id": "lmnzhvNFgih8"
   },
   "outputs": [],
   "source": [
    "import requests\n",
    "import json\n",
    "from pprint import pprint"
   ]
  },
  {
   "cell_type": "code",
   "execution_count": null,
   "metadata": {
    "id": "g0rX5mS5gtKw"
   },
   "outputs": [],
   "source": [
    "fere_api_key = \"YOUR_API_KEY\" # @param {type: \"string\"}\n",
    "fere_user_id = \"YOUR_USER_ID\" # @param {type: \"string\"}\n",
    "\n",
    "api_headers = {\n",
    "  'Content-Type': 'application/json',\n",
    "  'Accept': 'application/json',\n",
    "  'X-FRIDAY-KEY': fere_api_key\n",
    "}"
   ]
  },
  {
   "cell_type": "markdown",
   "metadata": {
    "id": "rkK8cRjyhCTW"
   },
   "source": [
    "## 1. Create an Agent\n",
    "\n",
    "Instructions Examples: https://docs.fereai.xyz/docs/product/0xMONK/#coin-decision-instructions\n"
   ]
  },
  {
   "cell_type": "code",
   "execution_count": 53,
   "metadata": {
    "id": "Qb5xAFyjhEmx"
   },
   "outputs": [],
   "source": [
    "url = \"https://api.fereai.xyz/ta/agent/\"\n",
    "\n",
    "name = \"Disciple 421\" # @param {type: \"string\"}\n",
    "description = \"A loyal and trusted disciple of MONK\" # @param {type: \"string\"}\n",
    "persona = \"A loyal and trusted disciple of MONK\" # @param {type: \"string\"}\n",
    "data_source = \"trending\" # @param [\"trending\", \"latest\"]\n",
    "decision_prompt_pool = \"You are a pro memecoin trader on Solana. Use your understanding of memcoins, market psychology and on-chain metrics to identify coins with high growth potentials.  MISSION: Make an informed and calculated judgement on weather to buy, hold, sell or pass on a memecoin.  GOAL: Your GOAL is to generate consistent profits over a **longer-term period (3 - 7 days)** by blending **momentum trading, volatility management, and adaptive feedback loops**.  STRATEGY: ### 1. **Initial Assessment for Entry**    - **Assess Pool Age:**      - If the pool was created recently (within 1-2 days), it suggests early-stage momentum. Prioritize memecoins that show strong early trading interest, as indicated by high **volume in the first 24 hours**.     - **Check FDV vs. Market Cap Ratio:**      - **FDV close to Market Cap:** Indicates potential bullishness with less risk of dilution. This supports entering a longer-term trade.      - **FDV significantly higher than Market Cap:** Indicates risk of dilution; proceed cautiously with tighter risk management.     - **Review Price Change Trends (up to 24hr):**      - Enter trades where there is a **consistent upward price change** across intervals (5m, 1hr, 6hr, 24hr), supported by rising volume.      - For a **bullish entry**, ensure positive price change across multiple intervals, particularly in 1hr, 6hr, and 24hr.  ### 2. **Incorporate Volatility Analysis**    - **Use ATR to Define Entry and Exit Ranges:**      - Calculate the **Average True Range (ATR)** to set entry and stop-loss levels. Wider ATR suggests higher potential rewards, but also increased risk.      - Set initial stop-loss levels at **1.5-2x the ATR** to avoid premature exits due to regular volatility.     - **Volatility Breakout Entry:**      - Enter long positions when the price breaks above recent volatility bands (e.g., Bollinger Bands), accompanied by strong volume over 6hr intervals.      - Avoid entering trades during extreme volatility spikes unless there is consistent follow-through in volume and price over longer intervals (6hr or more).  ### 3. **Adaptive Position Sizing**    - **Start with Smaller Initial Positions:**      - Given the high volatility, begin with a smaller position size to minimize risk. As the trend confirms (positive price and volume over 12hr), gradually increase the position size.     - **Adjust Position Based on Recent Trade Success:**      - If recent trades have been profitable, **increase position size by 10-20%** to capitalize on momentum.      - If recent trades have had high losses, **reduce position size** and tighten stops to avoid further losses.  ### 4. **Feedback Loop with Last Trades**    - **Analyze Trade Patterns:**      - Review the **last 5 trades** to identify common triggers for success or failure (e.g., rapid volume surges, resistance breakouts, or social media-driven momentum).      - If the **last profitable trades** had similar conditions (e.g., positive price change after volume spikes), replicate those entry conditions for prolonged trades.     - **Use Historical Exit Points for Guidance:**      - If past trades reached a **profit target of 10-20%** within 12-24 hours, set similar targets and be ready to adjust based on current momentum.      - If the last loss resulted from holding too long despite declining volume, be prepared to exit sooner in similar conditions.  ### 5. **Mid-Trade Management for 12-36 Hours**    - **Reassess at 12hr and 24hr Intervals:**      - Every 12 hours, evaluate whether the momentum is sustained: check volume, price change, and transaction patterns. If the volume remains strong and price trends are positive, maintain the position.     - **Trailing Stop-Loss:**      - Implement a **trailing stop-loss** based on the 6hr ATR to lock in profits as the price moves up. This allows you to capture gains while keeping the potential for further upside.      - Adjust the trailing stop if momentum remains strong after 24 hours, allowing for an extended hold.  ### 6. **Longer-Term Hold Strategy (Up to 7 Days)**    - **Monitor 24hr and 6hr Volume Trends:**      - If 24hr volume continues to rise, hold the position for up to 3 days to maximize gains.      - For holds longer than 3 days, ensure consistent positive price change in the 24hr interval and sustained volume increases.     - **Identify Extended Trends or Reversals:**      - Use **12hr and 24hr moving averages (MA)** as benchmarks:        - If the price consistently stays above the 12hr MA, it indicates sustained bullish momentum—hold longer.        - If the price drops below the 12hr MA, consider reducing position size or exiting partially.  ### 7. **Exit Criteria for 3-7 Days**    - **Profit Targets:**      - Set multiple profit targets (e.g., at +10%, +20%, and +30%).      - Use the **last 5 successful trades** to determine the most effective profit levels.     - **Volatility and Volume Drop:**      - Exit if there’s a significant **drop in 6hr or 24hr volume**, as it signals a decline in momentum.      - Exit earlier if there’s a sudden spike in **sell transactions** over 6hr intervals, indicating a potential trend reversal.    - **OHLCV Analysis:**     - If the **Open-High-Low-Close-Volume (OHLCV)** pattern shows consistent lower highs and lower lows over 24hr intervals, consider exiting to avoid further losses.     - If the OHLCV pattern remains bullish with higher highs and higher lows, consider holding the position for an extended period.     - You have OHLCV data in durations of 1 minute, 1 hour and 1 day. Access all of them carefully.  ### Summary of Strategy Workflow 1. **Entry:**    - Pool age, FDV vs. Market Cap, consistent positive price changes, and volatility breakout.  2. **Position Sizing:**    - Start small, scale up as momentum confirms, and adapt based on recent trades.  3. **Mid-Trade Management:**    - Reassess every 12hr, use trailing stops, and adjust based on ATR.  4. **Longer Hold:**    - Use 24hr volume and MA trends to sustain the trade.  5. **Exit:**    - Based on profit targets, volume drops, increased sell transactions, or external events.\" # @param {type: \"string\"}\n",
    "decision_prompt_portfolio = \"You are a seasoned crypto memecoin portfolio manager on Solana. Your only focus and job is keep increasing profits for yourself.  You are managing a portfolio of memecoins.  You are about to take following decision on your portfolio. You must analyze each of them critically. Specially look at the amount you're about to invest in each coin. Look at the coin's FDV and mcap and analyse if it's the best way to invest.  Also, you can rebalance your portfolio by selling some coins and buying new ones. You can also hold some coins if you think they have potential to grow further.\" # @param {type: \"string\"}\n",
    "twitter_username = \"0xmonk\" # @param {type: \"string\"}\n",
    "fc_username = \"0xmonk\" # @param {type: \"string\"}\n",
    "max_investment_per_session = 0.2 # @param {type:\"slider\", min:0, max:1, step:0.01}\n",
    "stop_loss = 0.5 # @param {type:\"slider\", min:0, max:1, step:0.01}\n",
    "trailing_stop_loss = 0.3 # @param {type:\"slider\", min:0, max:1, step:0.01}\n",
    "take_profit = 1.0 # @param {type:\"number\"}\n",
    "\n",
    "# @markdown ### Simulation specific settings\n",
    "simulation = True # @param {type: \"boolean\"}\n",
    "simulation_initial_usd = 1000 # @param {type: \"number\"}\n"
   ]
  },
  {
   "cell_type": "code",
   "execution_count": 54,
   "metadata": {
    "colab": {
     "base_uri": "https://localhost:8080/"
    },
    "id": "jJtQe8pYkBL_",
    "outputId": "cda0c48a-c434-4274-ab49-3698563d5595"
   },
   "outputs": [
    {
     "name": "stdout",
     "output_type": "stream",
     "text": [
      "{'data_source': 'trending',\n",
      " 'decision_prompt_pool': 'You are a pro memecoin trader on Solana. Use your '\n",
      "                         'understanding of memcoins, market psychology and '\n",
      "                         'on-chain metrics to identify coins with high growth '\n",
      "                         'potentials.  MISSION: Make an informed and '\n",
      "                         'calculated judgement on weather to buy, hold, sell '\n",
      "                         'or pass on a memecoin.  GOAL: Your GOAL is to '\n",
      "                         'generate consistent profits over a **longer-term '\n",
      "                         'period (3 - 7 days)** by blending **momentum '\n",
      "                         'trading, volatility management, and adaptive '\n",
      "                         'feedback loops**.  STRATEGY: ### 1. **Initial '\n",
      "                         'Assessment for Entry**    - **Assess Pool '\n",
      "                         'Age:**      - If the pool was created recently '\n",
      "                         '(within 1-2 days), it suggests early-stage momentum. '\n",
      "                         'Prioritize memecoins that show strong early trading '\n",
      "                         'interest, as indicated by high **volume in the first '\n",
      "                         '24 hours**.     - **Check FDV vs. Market Cap '\n",
      "                         'Ratio:**      - **FDV close to Market Cap:** '\n",
      "                         'Indicates potential bullishness with less risk of '\n",
      "                         'dilution. This supports entering a longer-term '\n",
      "                         'trade.      - **FDV significantly higher than Market '\n",
      "                         'Cap:** Indicates risk of dilution; proceed '\n",
      "                         'cautiously with tighter risk management.     - '\n",
      "                         '**Review Price Change Trends (up to 24hr):**      - '\n",
      "                         'Enter trades where there is a **consistent upward '\n",
      "                         'price change** across intervals (5m, 1hr, 6hr, '\n",
      "                         '24hr), supported by rising volume.      - For a '\n",
      "                         '**bullish entry**, ensure positive price change '\n",
      "                         'across multiple intervals, particularly in 1hr, 6hr, '\n",
      "                         'and 24hr.  ### 2. **Incorporate Volatility '\n",
      "                         'Analysis**    - **Use ATR to Define Entry and Exit '\n",
      "                         'Ranges:**      - Calculate the **Average True Range '\n",
      "                         '(ATR)** to set entry and stop-loss levels. Wider ATR '\n",
      "                         'suggests higher potential rewards, but also '\n",
      "                         'increased risk.      - Set initial stop-loss levels '\n",
      "                         'at **1.5-2x the ATR** to avoid premature exits due '\n",
      "                         'to regular volatility.     - **Volatility Breakout '\n",
      "                         'Entry:**      - Enter long positions when the price '\n",
      "                         'breaks above recent volatility bands (e.g., '\n",
      "                         'Bollinger Bands), accompanied by strong volume over '\n",
      "                         '6hr intervals.      - Avoid entering trades during '\n",
      "                         'extreme volatility spikes unless there is consistent '\n",
      "                         'follow-through in volume and price over longer '\n",
      "                         'intervals (6hr or more).  ### 3. **Adaptive Position '\n",
      "                         'Sizing**    - **Start with Smaller Initial '\n",
      "                         'Positions:**      - Given the high volatility, begin '\n",
      "                         'with a smaller position size to minimize risk. As '\n",
      "                         'the trend confirms (positive price and volume over '\n",
      "                         '12hr), gradually increase the position size.     - '\n",
      "                         '**Adjust Position Based on Recent Trade '\n",
      "                         'Success:**      - If recent trades have been '\n",
      "                         'profitable, **increase position size by 10-20%** to '\n",
      "                         'capitalize on momentum.      - If recent trades have '\n",
      "                         'had high losses, **reduce position size** and '\n",
      "                         'tighten stops to avoid further losses.  ### 4. '\n",
      "                         '**Feedback Loop with Last Trades**    - **Analyze '\n",
      "                         'Trade Patterns:**      - Review the **last 5 '\n",
      "                         'trades** to identify common triggers for success or '\n",
      "                         'failure (e.g., rapid volume surges, resistance '\n",
      "                         'breakouts, or social media-driven momentum).      - '\n",
      "                         'If the **last profitable trades** had similar '\n",
      "                         'conditions (e.g., positive price change after volume '\n",
      "                         'spikes), replicate those entry conditions for '\n",
      "                         'prolonged trades.     - **Use Historical Exit Points '\n",
      "                         'for Guidance:**      - If past trades reached a '\n",
      "                         '**profit target of 10-20%** within 12-24 hours, set '\n",
      "                         'similar targets and be ready to adjust based on '\n",
      "                         'current momentum.      - If the last loss resulted '\n",
      "                         'from holding too long despite declining volume, be '\n",
      "                         'prepared to exit sooner in similar conditions.  ### '\n",
      "                         '5. **Mid-Trade Management for 12-36 Hours**    - '\n",
      "                         '**Reassess at 12hr and 24hr Intervals:**      - '\n",
      "                         'Every 12 hours, evaluate whether the momentum is '\n",
      "                         'sustained: check volume, price change, and '\n",
      "                         'transaction patterns. If the volume remains strong '\n",
      "                         'and price trends are positive, maintain the '\n",
      "                         'position.     - **Trailing Stop-Loss:**      - '\n",
      "                         'Implement a **trailing stop-loss** based on the 6hr '\n",
      "                         'ATR to lock in profits as the price moves up. This '\n",
      "                         'allows you to capture gains while keeping the '\n",
      "                         'potential for further upside.      - Adjust the '\n",
      "                         'trailing stop if momentum remains strong after 24 '\n",
      "                         'hours, allowing for an extended hold.  ### 6. '\n",
      "                         '**Longer-Term Hold Strategy (Up to 7 Days)**    - '\n",
      "                         '**Monitor 24hr and 6hr Volume Trends:**      - If '\n",
      "                         '24hr volume continues to rise, hold the position for '\n",
      "                         'up to 3 days to maximize gains.      - For holds '\n",
      "                         'longer than 3 days, ensure consistent positive price '\n",
      "                         'change in the 24hr interval and sustained volume '\n",
      "                         'increases.     - **Identify Extended Trends or '\n",
      "                         'Reversals:**      - Use **12hr and 24hr moving '\n",
      "                         'averages (MA)** as benchmarks:        - If the price '\n",
      "                         'consistently stays above the 12hr MA, it indicates '\n",
      "                         'sustained bullish momentum—hold longer.        - If '\n",
      "                         'the price drops below the 12hr MA, consider reducing '\n",
      "                         'position size or exiting partially.  ### 7. **Exit '\n",
      "                         'Criteria for 3-7 Days**    - **Profit '\n",
      "                         'Targets:**      - Set multiple profit targets (e.g., '\n",
      "                         'at +10%, +20%, and +30%).      - Use the **last 5 '\n",
      "                         'successful trades** to determine the most effective '\n",
      "                         'profit levels.     - **Volatility and Volume '\n",
      "                         'Drop:**      - Exit if there’s a significant **drop '\n",
      "                         'in 6hr or 24hr volume**, as it signals a decline in '\n",
      "                         'momentum.      - Exit earlier if there’s a sudden '\n",
      "                         'spike in **sell transactions** over 6hr intervals, '\n",
      "                         'indicating a potential trend reversal.    - **OHLCV '\n",
      "                         'Analysis:**     - If the '\n",
      "                         '**Open-High-Low-Close-Volume (OHLCV)** pattern shows '\n",
      "                         'consistent lower highs and lower lows over 24hr '\n",
      "                         'intervals, consider exiting to avoid further '\n",
      "                         'losses.     - If the OHLCV pattern remains bullish '\n",
      "                         'with higher highs and higher lows, consider holding '\n",
      "                         'the position for an extended period.     - You have '\n",
      "                         'OHLCV data in durations of 1 minute, 1 hour and 1 '\n",
      "                         'day. Access all of them carefully.  ### Summary of '\n",
      "                         'Strategy Workflow 1. **Entry:**    - Pool age, FDV '\n",
      "                         'vs. Market Cap, consistent positive price changes, '\n",
      "                         'and volatility breakout.  2. **Position Sizing:**    '\n",
      "                         '- Start small, scale up as momentum confirms, and '\n",
      "                         'adapt based on recent trades.  3. **Mid-Trade '\n",
      "                         'Management:**    - Reassess every 12hr, use trailing '\n",
      "                         'stops, and adjust based on ATR.  4. **Longer '\n",
      "                         'Hold:**    - Use 24hr volume and MA trends to '\n",
      "                         'sustain the trade.  5. **Exit:**    - Based on '\n",
      "                         'profit targets, volume drops, increased sell '\n",
      "                         'transactions, or external events.',\n",
      " 'decision_prompt_portfolio': 'You are a seasoned crypto memecoin portfolio '\n",
      "                              'manager on Solana. Your only focus and job is '\n",
      "                              'keep increasing profits for yourself.  You are '\n",
      "                              'managing a portfolio of memecoins.  You are '\n",
      "                              'about to take following decision on your '\n",
      "                              'portfolio. You must analyze each of them '\n",
      "                              \"critically. Specially look at the amount you're \"\n",
      "                              'about to invest in each coin. Look at the '\n",
      "                              \"coin's FDV and mcap and analyse if it's the \"\n",
      "                              'best way to invest.  Also, you can rebalance '\n",
      "                              'your portfolio by selling some coins and buying '\n",
      "                              'new ones. You can also hold some coins if you '\n",
      "                              'think they have potential to grow further.',\n",
      " 'description': 'A loyal and trusted disciple of MONK',\n",
      " 'dry_run': True,\n",
      " 'dry_run_initial_usd': 1000.0,\n",
      " 'evm_address': '0xFf68de3275Fc74f43a8C4fadB1c42d7eb19544db',\n",
      " 'evm_pvt_key': 'd55dc71e959d3a2ecac150a3820f43ff69eef38e87fb82530c9d779a8cbbf92f',\n",
      " 'fc_username': '0xmonk',\n",
      " 'id': '14def492-9fbd-4cad-a331-dcaaca5d8f01',\n",
      " 'is_active': True,\n",
      " 'max_investment_per_session': 0.2,\n",
      " 'mnemonic': 'slim angry peanut only loyal unfair miracle just wage pattern '\n",
      "             'crime air',\n",
      " 'name': 'Disciple 421',\n",
      " 'persona': 'A loyal and trusted disciple of MONK',\n",
      " 'sol_address': '492Gn7yJ5YY1Tci8PWkx6udaZEPPSLdQUnGV8JdRPHcu',\n",
      " 'sol_pvt_key': '3nkpPbo8FWs6t3HLd72tTvPfPhphWiWJDCToT5D7t1Her85r3DnciC7aqmaJq4W7RmeQVJbnQQ2hGPSjrdQReze5',\n",
      " 'stop_loss': 0.5,\n",
      " 'take_profit': 1.0,\n",
      " 'trailing_stop_loss': 0.3,\n",
      " 'twitter_username': '0xmonk',\n",
      " 'user_id': '6a5b4a29-9d95-44c8-aef3-05a8e515f43e'}\n"
     ]
    }
   ],
   "source": [
    "\n",
    "def create_agent(\n",
    "    fere_user_id,\n",
    "    name,\n",
    "    description,\n",
    "    persona,\n",
    "    data_source,\n",
    "    decision_prompt_pool,\n",
    "    decision_prompt_portfolio,\n",
    "    twitter_username=None,\n",
    "    fc_username=None,\n",
    "    simulation=False,\n",
    "    simulation_initial_usd=0,\n",
    "    max_investment_per_session=0,\n",
    "    stop_loss=0,\n",
    "    trailing_stop_loss=0,\n",
    "    take_profit=0\n",
    "):\n",
    "    \"\"\"\n",
    "    Sends an investment request with the given parameters to the specified URL.\n",
    "\n",
    "    Args:\n",
    "        api_headers (dict): Headers for the API request.\n",
    "        fere_user_id (str): The user ID.\n",
    "        name (str): The name of the investment request.\n",
    "        description (str): The description of the investment request.\n",
    "        persona (str): The persona for the investment.\n",
    "        data_source (str): The data source for the investment.\n",
    "        decision_prompt_pool (str): Decision prompt pool.\n",
    "        decision_prompt_portfolio (str): Decision prompt portfolio.\n",
    "        twitter_username (str, optional): Twitter username. Defaults to None.\n",
    "        fc_username (str, optional): FC username. Defaults to None.\n",
    "        simulation (bool, optional): Indicates whether it's a dry run. Defaults to False.\n",
    "        simulation_initial_usd (float, optional): Initial USD for simulation. Defaults to 0.\n",
    "        max_investment_per_session (float, optional): Max investment per session. Defaults to 0.\n",
    "        stop_loss (float, optional): Stop-loss percentage. Defaults to 0.\n",
    "        trailing_stop_loss (float, optional): Trailing stop-loss percentage. Defaults to 0.\n",
    "        take_profit (float, optional): Take-profit percentage. Defaults to 0.\n",
    "\n",
    "    Returns:\n",
    "        dict or None: JSON response if the request succeeds, None otherwise.\n",
    "    \"\"\"\n",
    "    payload = json.dumps({\n",
    "        \"user_id\": fere_user_id,\n",
    "        \"name\": name,\n",
    "        \"description\": description,\n",
    "        \"persona\": persona,\n",
    "        \"data_source\": data_source,\n",
    "        \"decision_prompt_pool\": decision_prompt_pool,\n",
    "        \"decision_prompt_portfolio\": decision_prompt_portfolio,\n",
    "        \"twitter_username\": twitter_username,\n",
    "        \"fc_username\": fc_username,\n",
    "        \"dry_run\": simulation,\n",
    "        \"dry_run_initial_usd\": simulation_initial_usd,\n",
    "        \"max_investment_per_session\": max_investment_per_session,\n",
    "        \"stop_loss\": stop_loss,\n",
    "        \"trailing_stop_loss\": trailing_stop_loss,\n",
    "        \"take_profit\": take_profit\n",
    "    })\n",
    "\n",
    "    response = requests.request(\"PUT\", url, headers=api_headers, data=payload)\n",
    "\n",
    "    if response.status_code == 200:\n",
    "        data = response.json()\n",
    "        return data\n",
    "    else:\n",
    "        print(response.text)\n",
    "        return None\n",
    "\n",
    "agent = create_agent(fere_user_id, name,description,persona,data_source,\n",
    "             decision_prompt_pool, decision_prompt_portfolio, twitter_username,\n",
    "             fc_username, simulation, simulation_initial_usd,\n",
    "             max_investment_per_session, stop_loss, trailing_stop_loss,\n",
    "             take_profit)\n",
    "\n",
    "pprint(f\"Agent created\")\n",
    "pprint(agent)"
   ]
  },
  {
   "cell_type": "markdown",
   "metadata": {
    "id": "LSqeV-ORmaql"
   },
   "source": [
    "## 2. Get Disciple Agents from a given User"
   ]
  },
  {
   "cell_type": "code",
   "execution_count": 64,
   "metadata": {
    "colab": {
     "base_uri": "https://localhost:8080/"
    },
    "id": "qkRu61Ohmra6",
    "outputId": "ff4bc13b-61b4-43d5-a13b-f3fbf1582715"
   },
   "outputs": [
    {
     "name": "stdout",
     "output_type": "stream",
     "text": [
      "Disciples Created: 4\n",
      "\n",
      "Name: Disciple 420\n",
      "ID: 22f1ce39-8520-4af0-bdbe-fdb8b7d21bf0\n",
      "\n",
      "Name: Disciple 420\n",
      "ID: 403a7be0-ab41-4532-a41e-a4eaed8b93b3\n",
      "\n",
      "Name: Disciple 420\n",
      "ID: fa0808bc-41b7-427d-b790-d84bfbec94b0\n",
      "\n",
      "Name: Disciple 421\n",
      "ID: 14def492-9fbd-4cad-a331-dcaaca5d8f01\n",
      "\n"
     ]
    }
   ],
   "source": [
    "def fetch_disciples(fere_user_id):\n",
    "    \"\"\"\n",
    "    Fetches a list of disciples for the given user ID.\n",
    "\n",
    "    Args:\n",
    "        fere_user_id (str): The user ID for which to fetch disciples.\n",
    "        api_headers (dict): Headers for the API request.\n",
    "\n",
    "    Returns:\n",
    "        list: A list of disciples if the request succeeds, or an empty list otherwise.\n",
    "    \"\"\"\n",
    "    url = f\"https://api.fereai.xyz/ta/agent/{fere_user_id}/\"\n",
    "    payload = {}\n",
    "\n",
    "    response = requests.request(\"GET\", url, headers=api_headers, data=payload)\n",
    "\n",
    "    if response.status_code == 200:\n",
    "        data = response.json()\n",
    "        print(f\"Disciples Created: {len(data)}\\n\")\n",
    "        for disciple in data:\n",
    "            print(f\"Name: {disciple['name']}\")\n",
    "            print(f\"ID: {disciple['id']}\\n\")\n",
    "        return data\n",
    "    else:\n",
    "        print(f\"Failed to fetch disciples: {response.text}\")\n",
    "        return []\n",
    "\n",
    "fetch_disciples(fere_user_id)"
   ]
  },
  {
   "cell_type": "markdown",
   "metadata": {
    "id": "MkgUenoSnnpY"
   },
   "source": [
    "## 3. Get portfolio"
   ]
  },
  {
   "cell_type": "code",
   "execution_count": 74,
   "metadata": {
    "id": "HKlwiMX8nsOE"
   },
   "outputs": [],
   "source": [
    "disciple_agent_id = \"14def492-9fbd-4cad-a331-dcaaca5d8f01\" # @param {type: \"string\"}"
   ]
  },
  {
   "cell_type": "code",
   "execution_count": 75,
   "metadata": {
    "colab": {
     "base_uri": "https://localhost:8080/"
    },
    "id": "dZGBmtvlnl8D",
    "outputId": "c4a51a68-5b86-46ca-f03f-cdd5a2398df2"
   },
   "outputs": [
    {
     "data": {
      "text/plain": [
       "{'id': 'baab2eec-3a05-49a1-bc7e-b994f9615347',\n",
       " 'agent_id': '14def492-9fbd-4cad-a331-dcaaca5d8f01',\n",
       " 'start_time': '2024-11-26T09:34:15.712055Z',\n",
       " 'start_usd': 1000.0,\n",
       " 'start_native': 4.24808836023789,\n",
       " 'curr_realised_usd': 980.073549705943,\n",
       " 'curr_realised_native': 4.16298788334761,\n",
       " 'curr_unrealised_usd': 19.465008787523,\n",
       " 'curr_unrealised_native': 0.0841309501410071,\n",
       " 'dry_run': True}"
      ]
     },
     "execution_count": 75,
     "metadata": {},
     "output_type": "execute_result"
    }
   ],
   "source": [
    "def get_portfolio(disciple_agent_id):\n",
    "  url = f\"https://api.fereai.xyz/ta/agent/{disciple_agent_id}/portfolio/\"\n",
    "\n",
    "  payload = {}\n",
    "  response = requests.request(\"GET\", url, headers=api_headers, data=payload)\n",
    "\n",
    "  if response.status_code == 200:\n",
    "    data = response.json()\n",
    "    return data\n",
    "  else:\n",
    "    print(response.text)\n",
    "\n",
    "\n",
    "get_portfolio(disciple_agent_id)"
   ]
  },
  {
   "cell_type": "markdown",
   "metadata": {
    "id": "s0lMGAtwoUMq"
   },
   "source": [
    "## 4. Get Holdings"
   ]
  },
  {
   "cell_type": "code",
   "execution_count": 85,
   "metadata": {
    "colab": {
     "base_uri": "https://localhost:8080/"
    },
    "id": "Br5aHudoobyE",
    "outputId": "4362d6f2-ae93-49ad-e4ca-71ac983aeb02"
   },
   "outputs": [
    {
     "name": "stdout",
     "output_type": "stream",
     "text": [
      "Total holdings: 1\n",
      "[{'agent_id': '14def492-9fbd-4cad-a331-dcaaca5d8f01',\n",
      "  'base_address': 'GqmEdRD3zGUZdYPeuDeXxCc8Cj1DBmGSYK97TCwSpump',\n",
      "  'bought_at': '2024-11-26T10:05:45.052557Z',\n",
      "  'buying_price_native': 4.30841681980038e-05,\n",
      "  'buying_price_usd': 0.0100882458880364,\n",
      "  'curr_price_native': 4.17057630968669e-05,\n",
      "  'curr_price_usd': 0.0096884,\n",
      "  'decimals': 6,\n",
      "  'dry_run': True,\n",
      "  'id': '85515f1b-6269-4dd6-a2e1-d6ee7d668003',\n",
      "  'is_active': True,\n",
      "  'pool_address': 'GvDBhjocyfDZuGWqkm4ZU89W2YXaVLadWDUXeJHr9h8s',\n",
      "  'pool_name': 'e/acc / SOL',\n",
      "  'profit_abs_native': -0.00272264584326314,\n",
      "  'profit_abs_usd': -0.789781425003625,\n",
      "  'profit_per_native': -3.19933088832562,\n",
      "  'profit_per_usd': -3.96348277464743,\n",
      "  'token_name': 'Effective accelerationism',\n",
      "  'tokens_bought': 1975.214573}]\n"
     ]
    }
   ],
   "source": [
    "def get_holdings(disciple_agent_id):\n",
    "  url = f\"https://api.fereai.xyz/ta/agent/{disciple_agent_id}/holdings/\"\n",
    "\n",
    "  payload = {}\n",
    "\n",
    "  response = requests.request(\"GET\", url, headers=api_headers, data=payload)\n",
    "  if response.status_code == 200:\n",
    "    data = response.json()\n",
    "    return data\n",
    "  else:\n",
    "    print(response.text)\n",
    "\n",
    "holdings = get_holdings(disciple_agent_id)\n",
    "\n",
    "print(f\"Total holdings: {len(holdings)}\")\n",
    "\n",
    "pprint(holdings)"
   ]
  },
  {
   "cell_type": "markdown",
   "metadata": {
    "id": "NPTzHO0Xol1i"
   },
   "source": [
    "## 5. Get Trades\n"
   ]
  },
  {
   "cell_type": "code",
   "execution_count": 77,
   "metadata": {
    "colab": {
     "base_uri": "https://localhost:8080/"
    },
    "id": "lcmlnWqxopqW",
    "outputId": "422e8370-6a64-4efc-b29e-cd6a46573907"
   },
   "outputs": [
    {
     "data": {
      "text/plain": [
       "[{'created_at': '2024-11-26T10:05:43Z',\n",
       "  'agent_id': '14def492-9fbd-4cad-a331-dcaaca5d8f01',\n",
       "  'base_address': 'GqmEdRD3zGUZdYPeuDeXxCc8Cj1DBmGSYK97TCwSpump',\n",
       "  'pool_name': 'e/acc / SOL',\n",
       "  'decision': 1,\n",
       "  'price_usd': 0.0100882458880364,\n",
       "  'price_sol': 4.30841681980038e-05,\n",
       "  'in_amount': 84961767.0,\n",
       "  'out_amount': 1975214573.0,\n",
       "  'gas_fee': 127000.0,\n",
       "  'jito_fee': 32101.0,\n",
       "  'other_amount_threshold': 1965338501.0,\n",
       "  'reason': 'The pool has shown a consistent upward trend in the past 24 hours, with a price change percentage of 8.69% in the last hour and 16.58% in the last 6 hours. The volume has also been increasing, with a volume of 75920.31347229001 in the last hour and 1251851.08394443 in the last 24 hours. The OHLCV data also shows a bullish trend, with the price closing above the 12-hour moving average. Therefore, it is recommended to buy this pool.',\n",
       "  'future_action': \"Monitor the pool's performance and adjust the position size based on the momentum. If the price continues to rise, consider increasing the position size. If the price drops, consider reducing the position size or exiting the trade.\",\n",
       "  'profit_sol': None,\n",
       "  'profit_usd': None,\n",
       "  'profit_percentage': None,\n",
       "  'txn': 'https://solscan.io/tx/62RWhUzNEs26VfGnwK7BKJEvVaSPDknPP25wy7EAgxvE1jRs7zdFHwVZbFdmpw4Ynn28mPiPR56u5kgqq4du5yzS',\n",
       "  'dry_run': True}]"
      ]
     },
     "execution_count": 77,
     "metadata": {},
     "output_type": "execute_result"
    }
   ],
   "source": [
    "def get_trades(disciple_agent_id):\n",
    "  url = f\"https://api.fereai.xyz/ta/agent/{disciple_agent_id}/trades/\"\n",
    "\n",
    "  payload = {}\n",
    "\n",
    "  response = requests.request(\"GET\", url, headers=api_headers, data=payload)\n",
    "\n",
    "  if response.status_code == 200:\n",
    "    return response.json()\n",
    "  else:\n",
    "    pprint(response.text)\n",
    "\n",
    "get_trades(disciple_agent_id)"
   ]
  },
  {
   "cell_type": "markdown",
   "metadata": {
    "id": "jeqvlxYLo3fP"
   },
   "source": [
    "## 6. Get Optimal gains"
   ]
  },
  {
   "cell_type": "code",
   "execution_count": 79,
   "metadata": {
    "colab": {
     "base_uri": "https://localhost:8080/"
    },
    "id": "sbUSHXGeo-mc",
    "outputId": "bb04ddbf-a11b-4a97-ee49-7bccf34ebbec"
   },
   "outputs": [
    {
     "data": {
      "text/plain": [
       "[{'pool_address': 'GvDBhjocyfDZuGWqkm4ZU89W2YXaVLadWDUXeJHr9h8s',\n",
       "  'base_address': 'GqmEdRD3zGUZdYPeuDeXxCc8Cj1DBmGSYK97TCwSpump',\n",
       "  'token_name': 'e/acc / SOL',\n",
       "  'profile_pic': 'https://coin-images.coingecko.com/coins/images/50905/large/GqmEdRD3zGUZdYPeuDeXxCc8Cj1DBmGSYK97TCwSpump.webp?1729520765',\n",
       "  'peaked_at': '2024-11-26T10:05:45.214017+00:00',\n",
       "  'notice_price_native': 4.30841681980038e-05,\n",
       "  'price_native': 4.30841681980038e-05,\n",
       "  'profit_per_native': 0.0,\n",
       "  'agent_id': '14def492-9fbd-4cad-a331-dcaaca5d8f01',\n",
       "  'id': 'fd52730b-89ad-438c-ba99-7c9d422ddd6c',\n",
       "  'pool_name': 'Effective accelerationism',\n",
       "  'symbol': 'e/acc',\n",
       "  'noticed_at': '2024-11-26T10:05:45.214017+00:00',\n",
       "  'notice_price_usd': 0.0100882458880364,\n",
       "  'price_usd': 0.0100882458880364,\n",
       "  'profit_per_usd': 0.0,\n",
       "  'dry_run': True}]"
      ]
     },
     "execution_count": 79,
     "metadata": {},
     "output_type": "execute_result"
    }
   ],
   "source": [
    "def get_optimal_gains(disciple_agent_id):\n",
    "  url = f\"https://api.fereai.xyz/ta/agent/{disciple_agent_id}/buy/\"\n",
    "\n",
    "  payload = {}\n",
    "  response = requests.request(\"GET\", url, headers=api_headers, data=payload)\n",
    "  if response.status_code == 200:\n",
    "    return response.json()\n",
    "  else:\n",
    "    print(response.txt)\n",
    "\n",
    "get_optimal_gains(disciple_agent_id)"
   ]
  },
  {
   "cell_type": "markdown",
   "metadata": {
    "id": "mkJrR-5MqfZ_"
   },
   "source": [
    "## 7. Sell a holding manually"
   ]
  },
  {
   "cell_type": "code",
   "execution_count": null,
   "metadata": {
    "id": "b9pOhF-iqb5P"
   },
   "outputs": [],
   "source": [
    "holding_id = \"\" # @param {type: \"string\"}\n",
    "quantity = \"all\" # @param {type: \"string\"}"
   ]
  },
  {
   "cell_type": "markdown",
   "metadata": {
    "id": "p91xUzeXrA_d"
   },
   "source": [
    "A sell is executed as a background task. Upon calling the sell API, it returns a task ID. This task ID will be used to check the task status."
   ]
  },
  {
   "cell_type": "code",
   "execution_count": null,
   "metadata": {
    "id": "o8GpdopQqkIV"
   },
   "outputs": [],
   "source": [
    "\n",
    "def sell_holding(disciple_agent_id, holding_id, quantity):\n",
    "\n",
    "  url = f\"https://api.fereai.xyz/ta/agent/{disciple_agent_id}/sell/f{holding_id}/f{quantity}/\"\n",
    "  payload = {}\n",
    "\n",
    "  response = requests.request(\"POST\", url, headers=api_headers, data=payload)\n",
    "\n",
    "  if response.status_code == 200:\n",
    "    return response.json()\n",
    "  else:\n",
    "    print(response.text)\n",
    "\n",
    "task = sell_holding(disciple_agent_id, holding_id, quantity)\n",
    "\n",
    "pprint(task)"
   ]
  },
  {
   "cell_type": "markdown",
   "metadata": {
    "id": "1CEquaLArJjX"
   },
   "source": [
    "Now once we have the task ID, we can check the status of the task."
   ]
  },
  {
   "cell_type": "code",
   "execution_count": null,
   "metadata": {
    "id": "wYdgZpiMrJIi"
   },
   "outputs": [],
   "source": [
    "task_id = \"all\" # @param {type: \"string\"}\n",
    "\n",
    "url = f\"https://api.fereai.xyz/ta/task/status/{task_id}/\"\n",
    "\n",
    "payload = {}\n",
    "\n",
    "response = requests.request(\"GET\", url, headers=api_headers, data=payload)\n",
    "\n",
    "print(response.json())"
   ]
  },
  {
   "cell_type": "markdown",
   "metadata": {
    "id": "4aS8My10rakZ"
   },
   "source": [
    "Depending on the status, show the updates to user."
   ]
  },
  {
   "cell_type": "markdown",
   "metadata": {
    "id": "q8rUOFQkrkcN"
   },
   "source": [
    "# Disciple Lifecycle APIs"
   ]
  },
  {
   "cell_type": "markdown",
   "metadata": {
    "id": "I1iJW6RTr3zR"
   },
   "source": [
    "## 8. Update a Disciple"
   ]
  },
  {
   "cell_type": "code",
   "execution_count": null,
   "metadata": {
    "id": "rzMDCJE7r8Uk"
   },
   "outputs": [],
   "source": [
    "disciple_id = \"\" # @param {type: \"string\"}\n",
    "name = \"Disciple 420\" # @param {type: \"string\"}\n",
    "description = \"A loyal and trusted disciple of MONK\" # @param {type: \"string\"}\n",
    "persona = \"A loyal and trusted disciple of MONK\" # @param {type: \"string\"}\n",
    "data_source = \"trending\" # @param [\"trending\", \"latest\"]\n",
    "decision_prompt_pool = \"You are a pro memecoin trader on Solana. Use your understanding of memcoins, market psychology and on-chain metrics to identify coins with high growth potentials.  MISSION: Make an informed and calculated judgement on weather to buy, hold, sell or pass on a memecoin.  GOAL: Your GOAL is to generate consistent profits over a **longer-term period (3 - 7 days)** by blending **momentum trading, volatility management, and adaptive feedback loops**.  STRATEGY: ### 1. **Initial Assessment for Entry**    - **Assess Pool Age:**      - If the pool was created recently (within 1-2 days), it suggests early-stage momentum. Prioritize memecoins that show strong early trading interest, as indicated by high **volume in the first 24 hours**.     - **Check FDV vs. Market Cap Ratio:**      - **FDV close to Market Cap:** Indicates potential bullishness with less risk of dilution. This supports entering a longer-term trade.      - **FDV significantly higher than Market Cap:** Indicates risk of dilution; proceed cautiously with tighter risk management.     - **Review Price Change Trends (up to 24hr):**      - Enter trades where there is a **consistent upward price change** across intervals (5m, 1hr, 6hr, 24hr), supported by rising volume.      - For a **bullish entry**, ensure positive price change across multiple intervals, particularly in 1hr, 6hr, and 24hr.  ### 2. **Incorporate Volatility Analysis**    - **Use ATR to Define Entry and Exit Ranges:**      - Calculate the **Average True Range (ATR)** to set entry and stop-loss levels. Wider ATR suggests higher potential rewards, but also increased risk.      - Set initial stop-loss levels at **1.5-2x the ATR** to avoid premature exits due to regular volatility.     - **Volatility Breakout Entry:**      - Enter long positions when the price breaks above recent volatility bands (e.g., Bollinger Bands), accompanied by strong volume over 6hr intervals.      - Avoid entering trades during extreme volatility spikes unless there is consistent follow-through in volume and price over longer intervals (6hr or more).  ### 3. **Adaptive Position Sizing**    - **Start with Smaller Initial Positions:**      - Given the high volatility, begin with a smaller position size to minimize risk. As the trend confirms (positive price and volume over 12hr), gradually increase the position size.     - **Adjust Position Based on Recent Trade Success:**      - If recent trades have been profitable, **increase position size by 10-20%** to capitalize on momentum.      - If recent trades have had high losses, **reduce position size** and tighten stops to avoid further losses.  ### 4. **Feedback Loop with Last Trades**    - **Analyze Trade Patterns:**      - Review the **last 5 trades** to identify common triggers for success or failure (e.g., rapid volume surges, resistance breakouts, or social media-driven momentum).      - If the **last profitable trades** had similar conditions (e.g., positive price change after volume spikes), replicate those entry conditions for prolonged trades.     - **Use Historical Exit Points for Guidance:**      - If past trades reached a **profit target of 10-20%** within 12-24 hours, set similar targets and be ready to adjust based on current momentum.      - If the last loss resulted from holding too long despite declining volume, be prepared to exit sooner in similar conditions.  ### 5. **Mid-Trade Management for 12-36 Hours**    - **Reassess at 12hr and 24hr Intervals:**      - Every 12 hours, evaluate whether the momentum is sustained: check volume, price change, and transaction patterns. If the volume remains strong and price trends are positive, maintain the position.     - **Trailing Stop-Loss:**      - Implement a **trailing stop-loss** based on the 6hr ATR to lock in profits as the price moves up. This allows you to capture gains while keeping the potential for further upside.      - Adjust the trailing stop if momentum remains strong after 24 hours, allowing for an extended hold.  ### 6. **Longer-Term Hold Strategy (Up to 7 Days)**    - **Monitor 24hr and 6hr Volume Trends:**      - If 24hr volume continues to rise, hold the position for up to 3 days to maximize gains.      - For holds longer than 3 days, ensure consistent positive price change in the 24hr interval and sustained volume increases.     - **Identify Extended Trends or Reversals:**      - Use **12hr and 24hr moving averages (MA)** as benchmarks:        - If the price consistently stays above the 12hr MA, it indicates sustained bullish momentum—hold longer.        - If the price drops below the 12hr MA, consider reducing position size or exiting partially.  ### 7. **Exit Criteria for 3-7 Days**    - **Profit Targets:**      - Set multiple profit targets (e.g., at +10%, +20%, and +30%).      - Use the **last 5 successful trades** to determine the most effective profit levels.     - **Volatility and Volume Drop:**      - Exit if there’s a significant **drop in 6hr or 24hr volume**, as it signals a decline in momentum.      - Exit earlier if there’s a sudden spike in **sell transactions** over 6hr intervals, indicating a potential trend reversal.    - **OHLCV Analysis:**     - If the **Open-High-Low-Close-Volume (OHLCV)** pattern shows consistent lower highs and lower lows over 24hr intervals, consider exiting to avoid further losses.     - If the OHLCV pattern remains bullish with higher highs and higher lows, consider holding the position for an extended period.     - You have OHLCV data in durations of 1 minute, 1 hour and 1 day. Access all of them carefully.  ### Summary of Strategy Workflow 1. **Entry:**    - Pool age, FDV vs. Market Cap, consistent positive price changes, and volatility breakout.  2. **Position Sizing:**    - Start small, scale up as momentum confirms, and adapt based on recent trades.  3. **Mid-Trade Management:**    - Reassess every 12hr, use trailing stops, and adjust based on ATR.  4. **Longer Hold:**    - Use 24hr volume and MA trends to sustain the trade.  5. **Exit:**    - Based on profit targets, volume drops, increased sell transactions, or external events.\" # @param {type: \"string\"}\n",
    "decision_prompt_portfolio = \"You are a seasoned crypto memecoin portfolio manager on Solana. Your only focus and job is keep increasing profits for yourself.  You are managing a portfolio of memecoins.  You are about to take following decision on your portfolio. You must analyze each of them critically. Specially look at the amount you're about to invest in each coin. Look at the coin's FDV and mcap and analyse if it's the best way to invest.  Also, you can rebalance your portfolio by selling some coins and buying new ones. You can also hold some coins if you think they have potential to grow further.\" # @param {type: \"string\"}\n",
    "twitter_username = \"0xmonk\" # @param {type: \"string\"}\n",
    "fc_username = \"0xmonk\" # @param {type: \"string\"}\n",
    "max_investment_per_session = 0.2 # @param {type:\"slider\", min:0, max:1, step:0.01}\n",
    "stop_loss = 0.5 # @param {type:\"slider\", min:0, max:1, step:0.01}\n",
    "trailing_stop_loss = 0.3 # @param {type:\"slider\", min:0, max:1, step:0.01}\n",
    "take_profit = 1.0 # @param {type:\"number\"}\n",
    "\n",
    "# @markdown ### Simulation specific settings\n",
    "simulation = True # @param {type: \"boolean\"}\n",
    "simulation_initial_usd = 1000 # @param {type: \"number\"}"
   ]
  },
  {
   "cell_type": "code",
   "execution_count": null,
   "metadata": {
    "id": "tRM1z2l-sF8r"
   },
   "outputs": [],
   "source": [
    "\n",
    "url = f\"https://api.fereai.xyz/ta/agent/{disciple_id}/\"\n",
    "\n",
    "payload = json.dumps({\n",
    "  \"user_id\": fere_user_id,\n",
    "  \"name\": name,\n",
    "  \"description\": description,\n",
    "  \"persona\": persona,\n",
    "  \"data_source\": data_source,\n",
    "  \"decision_prompt_pool\": decision_prompt_pool,\n",
    "  \"decision_prompt_portfolio\": decision_prompt_portfolio,\n",
    "  \"twitter_username\": twitter_username,\n",
    "  \"fc_username\": fc_username,\n",
    "  \"dry_run\": simulation,\n",
    "  \"dry_run_initial_usd\": simulation_initial_usd,\n",
    "  \"max_investment_per_session\": max_investment_per_session,\n",
    "  \"stop_loss\": stop_loss,\n",
    "  \"trailing_stop_loss\": trailing_stop_loss,\n",
    "  \"take_profit\": take_profit\n",
    "})\n",
    "\n",
    "response = requests.request(\"PATCH\", url, headers=api_headers, data=payload)\n",
    "\n",
    "print(response.json())"
   ]
  },
  {
   "cell_type": "markdown",
   "metadata": {
    "id": "NdIeVel9sWUX"
   },
   "source": [
    "## 9. Delete the Agent"
   ]
  },
  {
   "cell_type": "code",
   "execution_count": null,
   "metadata": {
    "id": "zZBIoJzUsZJ4"
   },
   "outputs": [],
   "source": [
    "def delete_disciple(disciple_agent_id):\n",
    "  url = f\"https://api.fereai.xyz/ta/agent/{disciple_agent_id}/\"\n",
    "\n",
    "  payload = {}\n",
    "  response = requests.request(\"DELETE\", url, headers=api_headers, data=payload)\n",
    "\n",
    "  if response.status_code == 200:\n",
    "    return response.json()\n",
    "  else:\n",
    "    print(response.text)\n",
    "\n",
    "delete_disciple(disciple_agent_id)"
   ]
  }
 ],
 "metadata": {
  "colab": {
   "provenance": []
  },
  "kernelspec": {
   "display_name": "Python 3",
   "name": "python3"
  },
  "language_info": {
   "name": "python"
  }
 },
 "nbformat": 4,
 "nbformat_minor": 0
}
