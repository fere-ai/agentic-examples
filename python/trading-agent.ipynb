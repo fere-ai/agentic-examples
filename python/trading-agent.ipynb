{
 "cells": [
  {
   "cell_type": "markdown",
   "metadata": {
    "id": "sYZ1lwUagkAy"
   },
   "source": [
    "# Autonomous Trading Agents - With 0xMONK from FereAI\n",
    "\n",
    "<a target=\"_blank\" href=\"https://colab.research.google.com/github/fere-ai/agentic-examples/blob/main/python/trading-agent.ipynb\">\n",
    "  <img src=\"https://colab.research.google.com/assets/colab-badge.svg\" alt=\"Open In Colab\"/>\n",
    "</a>\n",
    "\n",
    "This notebook demonstrates the ease of building autonomous trading agents. It's super easy using the `0xMONK` APIs from FereAI.\n",
    "\n",
    "- [Developer Docs](https://docs.fereai.xyz/docs/api/api-introduction)\n",
    "- [Get Your API Key](https://docs.google.com/forms/d/e/1FAIpQLScFAWfT5u2kwKx8tQkkL9AfdP8NIlNIn6tXJUQcRipZEUZokA/viewform)\n",
    "- [#dev-help on our Discord](https://discord.com/invite/3fsm5XJNW8)"
   ]
  },
  {
   "cell_type": "code",
   "execution_count": null,
   "metadata": {
    "id": "lmnzhvNFgih8"
   },
   "outputs": [],
   "source": [
    "import requests\n",
    "import json\n",
    "from pprint import pprint\n",
    "from tabulate import tabulate\n",
    "from uuid import  UUID"
   ]
  },
  {
   "cell_type": "code",
   "execution_count": null,
   "metadata": {
    "id": "g0rX5mS5gtKw"
   },
   "outputs": [],
   "source": [
    "fere_api_key = \"1234\" # @param {type: \"string\"}\n",
    "fere_user_id = \"d9a486fa-8dd0-4593-b2f6-9443d3a0abd6\" # @param {type: \"string\"}"
   ]
  },
  {
   "cell_type": "markdown",
   "metadata": {},
   "source": [
    "The main class `DiscipleClient` has all the methods needed to interact with Disciple APIs"
   ]
  },
  {
   "cell_type": "code",
   "execution_count": null,
   "metadata": {},
   "outputs": [],
   "source": [
    "class DiscipleClient:\n",
    "    base_url = \"https://api.fereai.xyz/ta/\"\n",
    "    # base_url = \"http://localhost:8000/\"\n",
    "\n",
    "    def __init__(self, api_key, user_id):\n",
    "        \"\"\"\n",
    "        Initializes the FereAI class with an API key.\n",
    "\n",
    "        Args:\n",
    "            api_key (str): The API key for authenticating requests.\n",
    "            user_id (str): The user ID for identifying the user.\n",
    "        \"\"\"\n",
    "        self.api_key = api_key\n",
    "        self.user_id = user_id\n",
    "\n",
    "    @property\n",
    "    def api_headers(self):\n",
    "        \"\"\"\n",
    "        Generates headers for API requests.\n",
    "\n",
    "        Returns:\n",
    "            dict: The headers including the Authorization key.\n",
    "        \"\"\"\n",
    "        return {\n",
    "            \"X-FRIDAY-KEY\": self.api_key,\n",
    "            \"Content-Type\": \"application/json\",\n",
    "            \"X-FERE-USERID\": self.user_id,\n",
    "        }\n",
    "\n",
    "    def create_agent(\n",
    "      self,\n",
    "      fere_user_id,\n",
    "      name,\n",
    "      description,\n",
    "      persona,\n",
    "      data_source,\n",
    "      decision_prompt_pool,\n",
    "      decision_prompt_portfolio,\n",
    "      twitter_username=None,\n",
    "      fc_username=None,\n",
    "      simulation=False,\n",
    "      simulation_initial_usd=1000,\n",
    "      simulation_initial_native=1,\n",
    "      max_investment_per_session=0.2,\n",
    "      stop_loss=0.6,\n",
    "      trailing_stop_loss=None,\n",
    "      take_profit=0.5,\n",
    "      chain='base',\n",
    "      mode='MANUAL',\n",
    "      ):\n",
    "      \"\"\"\n",
    "      Creates a new trading agent.\n",
    "\n",
    "      Args:\n",
    "          fere_user_id (str): The user ID.\n",
    "          name (str): The name of the agent.\n",
    "          description (str): A description of the agent.\n",
    "          persona (str): The persona of the agent.\n",
    "          data_source (str): The data source for the agent.\n",
    "          decision_prompt_pool (str): The decision prompt pool.\n",
    "          decision_prompt_portfolio (str): The decision prompt portfolio.\n",
    "          twitter_username (str, optional): Twitter username.\n",
    "          fc_username (str, optional): FC username.\n",
    "          simulation (bool, optional): Whether to run in simulation mode.\n",
    "          simulation_initial_usd (int, optional): Initial USD for simulation.\n",
    "          simulation_initial_native (int, optional): Initial native currency for simulation.\n",
    "          max_investment_per_session (float, optional): Max investment per session.\n",
    "          stop_loss (float, optional): Stop loss percentage.\n",
    "          trailing_stop_loss (float, optional): Trailing stop loss percentage.\n",
    "          take_profit (float, optional): Take profit percentage.\n",
    "          chain (str, optional): Blockchain chain.\n",
    "\n",
    "      Returns:\n",
    "          dict or None: The created agent data or None on failure.\n",
    "      \"\"\"\n",
    "      url = self.base_url + \"agent/\"\n",
    "      payload = json.dumps({\n",
    "          \"user_id\": fere_user_id,\n",
    "          \"name\": name,\n",
    "          \"description\": description,\n",
    "          \"persona\": persona,\n",
    "          \"chain\": chain,\n",
    "          \"data_source\": data_source,\n",
    "          \"decision_prompt_pool\": decision_prompt_pool,\n",
    "          \"decision_prompt_portfolio\": decision_prompt_portfolio,\n",
    "          \"twitter_username\": twitter_username,\n",
    "          \"fc_username\": fc_username,\n",
    "          \"dry_run\": simulation,\n",
    "          \"dry_run_initial_usd\": simulation_initial_usd,\n",
    "          \"dry_run_initial_native\": simulation_initial_native,\n",
    "          \"max_investment_per_session\": max_investment_per_session,\n",
    "          \"stop_loss\": stop_loss,\n",
    "          \"trailing_stop_loss\": trailing_stop_loss,\n",
    "          \"take_profit\": take_profit,\n",
    "          \"mode\": mode,\n",
    "      })\n",
    "\n",
    "      response = requests.put(url, headers=self.api_headers, data=payload, timeout=10)\n",
    "\n",
    "      if response.status_code == 200:\n",
    "          data = response.json()\n",
    "          pprint(\"Agent created\")\n",
    "          pprint(data)\n",
    "          return data\n",
    "      else:\n",
    "          print(response.text)\n",
    "          return None\n",
    "\n",
    "    def get_agent(self, agent_id: UUID | str) -> dict:\n",
    "        \"\"\"\n",
    "        Fetches an agent by ID.\n",
    "\n",
    "        Args:\n",
    "            agent_id (str): The agent ID.\n",
    "\n",
    "        Returns:\n",
    "            dict or None: The agent data or None on failure.\n",
    "        \"\"\"\n",
    "        url = f\"{self.base_url}agent/{agent_id}\"\n",
    "        response = requests.get(url, headers=self.api_headers, timeout=10)\n",
    "\n",
    "        if response.status_code == 200:\n",
    "            return response.json()\n",
    "        else:\n",
    "            print(response.text)\n",
    "            return None\n",
    "\n",
    "    def fetch_disciples(self, fere_user_id):\n",
    "        \"\"\"\n",
    "        Fetches disciples for a user ID.\n",
    "\n",
    "        Args:\n",
    "            fere_user_id (str): The user ID.\n",
    "\n",
    "        Returns:\n",
    "            list: A list of disciples or an empty list on failure.\n",
    "        \"\"\"\n",
    "        url = f\"{self.base_url}agent/{fere_user_id}/\"\n",
    "        response = requests.get(url, headers=self.api_headers, timeout=10)\n",
    "\n",
    "        if response.status_code == 200:\n",
    "            data = response.json()\n",
    "            print(f\"Disciples Created: {len(data)}\\n\")\n",
    "            for disciple in data:\n",
    "                print(f\"Name: {disciple['name']}\")\n",
    "                print(f\"ID: {disciple['id']}\\n\")\n",
    "            return data\n",
    "        else:\n",
    "            print(f\"Failed to fetch disciples: {response.text}\")\n",
    "            return []\n",
    "\n",
    "    def get_portfolio(self, disciple_agent_id):\n",
    "        \"\"\"\n",
    "        Fetches portfolio for a disciple agent.\n",
    "\n",
    "        Args:\n",
    "            disciple_agent_id (str): The agent ID.\n",
    "\n",
    "        Returns:\n",
    "            dict or None: The portfolio data or None on failure.\n",
    "        \"\"\"\n",
    "        url = f\"{self.base_url}agent/{disciple_agent_id}/portfolio/\"\n",
    "        response = requests.get(url, headers=self.api_headers, timeout=60)\n",
    "\n",
    "        if response.status_code == 200:\n",
    "            return response.json()\n",
    "        else:\n",
    "            print(response.text)\n",
    "            return None\n",
    "\n",
    "    def get_holdings(self, disciple_agent_id):\n",
    "        \"\"\"\n",
    "        Fetches holdings for a disciple agent.\n",
    "\n",
    "        Args:\n",
    "            disciple_agent_id (str): The agent ID.\n",
    "\n",
    "        Returns:\n",
    "            list or None: The holdings data or None on failure.\n",
    "        \"\"\"\n",
    "        url = f\"{self.base_url}agent/{disciple_agent_id}/holdings/\"\n",
    "        response = requests.get(url, headers=self.api_headers, timeout=10)\n",
    "\n",
    "        if response.status_code == 200:\n",
    "            data = response.json()\n",
    "            return data\n",
    "        else:\n",
    "            print(response.text)\n",
    "            return None\n",
    "\n",
    "    def get_trades(self, disciple_agent_id):\n",
    "        \"\"\"\n",
    "        Fetches trades for a disciple agent.\n",
    "\n",
    "        Args:\n",
    "            disciple_agent_id (str): The agent ID.\n",
    "\n",
    "        Returns:\n",
    "            dict or None: The trades data or None on failure.\n",
    "        \"\"\"\n",
    "        url = f\"{self.base_url}agent/{disciple_agent_id}/trades/\"\n",
    "        response = requests.get(url, headers=self.api_headers, timeout=10)\n",
    "\n",
    "        if response.status_code == 200:\n",
    "            return response.json()\n",
    "        else:\n",
    "            pprint(response.text)\n",
    "            return None\n",
    "\n",
    "    def get_trade_recommendations(self, disciple_agent_id):\n",
    "        \"\"\"\n",
    "        Fetches trade recommendations for a disciple agent.\n",
    "\n",
    "        Args:\n",
    "            disciple_agent_id (str): The agent ID.\n",
    "\n",
    "        Returns:\n",
    "            dict or None: The trade recommendations data or None on failure.\n",
    "        \"\"\"\n",
    "        url = f\"{self.base_url}agent/{disciple_agent_id}/decisions/\"\n",
    "        response = requests.get(url, headers=self.api_headers, timeout=10)\n",
    "\n",
    "        if response.status_code == 200:\n",
    "            return response.json()\n",
    "        else:\n",
    "            print(response.text)\n",
    "            return None\n",
    "\n",
    "    def get_optimal_gains(self, disciple_agent_id):\n",
    "        \"\"\"\n",
    "        Fetches optimal gains for a disciple agent.\n",
    "\n",
    "        Args:\n",
    "            disciple_agent_id (str): The agent ID.\n",
    "\n",
    "        Returns:\n",
    "            dict or None: The optimal gains data or None on failure.\n",
    "        \"\"\"\n",
    "        url = f\"{self.base_url}agent/{disciple_agent_id}/calls/\"\n",
    "        response = requests.get(url, headers=self.api_headers, timeout=10)\n",
    "\n",
    "        if response.status_code == 200:\n",
    "            return response.json()\n",
    "        else:\n",
    "            print(response.text)\n",
    "            return None\n",
    "\n",
    "    def get_decisions(self, disciple_id: UUID):\n",
    "        \"\"\"Gets the decisions of the agent.\n",
    "        \"\"\"\n",
    "        url = f\"{self.base_url}agent/{disciple_id}/decisions/\"\n",
    "        response = requests.get(url, headers=self.api_headers, timeout=10)\n",
    "\n",
    "        if response.status_code == 200:\n",
    "            return response.json()\n",
    "        else:\n",
    "            print(response.text)\n",
    "            return None\n",
    "\n",
    "    def update_agent(self, disciple_id, **kwargs):\n",
    "        \"\"\"\n",
    "        Updates an agent.\n",
    "\n",
    "        Args:\n",
    "            disciple_id (str): The agent ID.\n",
    "            **kwargs: Parameters for updating the agent.\n",
    "\n",
    "        Returns:\n",
    "            dict or None: The updated agent data or None on failure.\n",
    "        \"\"\"\n",
    "        url = f\"{self.base_url}agent/{disciple_id}/\"\n",
    "        payload = json.dumps(kwargs)\n",
    "        response = requests.patch(url, headers=self.api_headers, data=payload, timeout=10)\n",
    "\n",
    "        if response.status_code == 200:\n",
    "            return response.json()\n",
    "        else:\n",
    "            print(response.text)\n",
    "            return None\n",
    "\n",
    "    def schedule_sell(self, disciple_id, holding_id, quantity):\n",
    "      \"\"\"\n",
    "      Schedules a sell for a holding.\n",
    "\n",
    "      Args:\n",
    "          disciple_id (str): The disciple ID.\n",
    "          holding_id (str): The holding ID.\n",
    "          quantity (str): The quantity to sell.\n",
    "\n",
    "      Returns:\n",
    "          dict or None: The response data or None on failure.\n",
    "      \"\"\"\n",
    "      url = f\"{self.base_url}/agent/{disciple_id}/sell/f{holding_id}/f{quantity}/\"\n",
    "      payload = {}\n",
    "\n",
    "      response = requests.request(\"POST\", url, headers=self.api_headers, data=payload, timeout=10)\n",
    "\n",
    "      if response.status_code == 200:\n",
    "        return response.json()\n",
    "      else:\n",
    "        print(response.text)\n",
    "\n",
    "    def schedule_buy(self, disciple_id: UUID, ca: str, quantity: int, slippage: float = 1.0):\n",
    "      \"\"\"\n",
    "      Schedules a buy for a symbol.\n",
    "\n",
    "      Args:\n",
    "          disciple_id (str): The disciple ID.\n",
    "          symbol (str): The symbol to buy.\n",
    "          quantity (str): The quantity to buy.\n",
    "\n",
    "      Returns:\n",
    "          dict or None: The response data or None on failure.\n",
    "      \"\"\"\n",
    "      url = f\"{self.base_url}/agent/{disciple_id}/buy/\"\n",
    "      payload = {\n",
    "          \"ca\": ca,\n",
    "          \"quantity\": quantity,\n",
    "          \"slippage\": slippage,\n",
    "      }\n",
    "      print(payload)\n",
    "\n",
    "      response = requests.request(\"POST\", url, headers=self.api_headers, json=payload, timeout=10)\n",
    "\n",
    "      if response.status_code == 200:\n",
    "        return response.json()\n",
    "      else:\n",
    "        print(response.text)\n",
    "\n",
    "    def check_task_status(self, task_id):\n",
    "      \"\"\"\n",
    "      Checks the status of a task.\n",
    "\n",
    "      Args:\n",
    "          task_id (str): The task ID.\n",
    "\n",
    "      Returns:\n",
    "          dict or None: The task status data or None on failure.\n",
    "      \"\"\"\n",
    "      url = f\"{self.base_url}/task/status/{task_id}/\"\n",
    "\n",
    "      payload = {}\n",
    "\n",
    "      response = requests.request(\"GET\", url, headers=self.api_headers, data=payload, timeout=10)\n",
    "\n",
    "      if response.status_code == 200:\n",
    "        return response.json()\n",
    "      else:\n",
    "        print(response.text)\n",
    "\n",
    "    def delete_disciple(self, disciple_agent_id):\n",
    "        \"\"\"\n",
    "        Deletes a disciple agent.\n",
    "\n",
    "        Args:\n",
    "            disciple_agent_id (str): The agent ID.\n",
    "\n",
    "        Returns:\n",
    "            dict or None: The response data or None on failure.\n",
    "        \"\"\"\n",
    "        url = f\"{self.base_url}agent/{disciple_agent_id}/\"\n",
    "        response = requests.delete(url, headers=self.api_headers, timeout=10)\n",
    "\n",
    "        if response.status_code == 200:\n",
    "            return response.json()\n",
    "        else:\n",
    "            print(response.text)\n",
    "            return None\n"
   ]
  },
  {
   "cell_type": "markdown",
   "metadata": {},
   "source": [
    "## 0. Create a Disciple Instance"
   ]
  },
  {
   "cell_type": "code",
   "execution_count": null,
   "metadata": {},
   "outputs": [],
   "source": [
    "disciple = DiscipleClient(fere_api_key, fere_user_id)\n"
   ]
  },
  {
   "cell_type": "markdown",
   "metadata": {
    "id": "rkK8cRjyhCTW"
   },
   "source": [
    "## 1. Create an Agent\n",
    "\n",
    "Instructions Examples: https://docs.fereai.xyz/docs/product/0xMONK/#coin-decision-instructions\n"
   ]
  },
  {
   "cell_type": "code",
   "execution_count": null,
   "metadata": {
    "id": "Qb5xAFyjhEmx"
   },
   "outputs": [],
   "source": [
    "name = \"Disciple latest\" # @param {type: \"string\"}\n",
    "description = \"A loyal and trusted disciple of MONK\" # @param {type: \"string\"}\n",
    "persona = \"A loyal and trusted disciple of MONK\" # @param {type: \"string\"}\n",
    "data_source = \"latest\" # @param [\"trending\", \"latest\", \"virtuals_s\"]\n",
    "decision_prompt_pool = \"You are a pro memecoin trader on Solana. Use your understanding of memcoins, market psychology and on-chain metrics to identify coins with high growth potentials.  MISSION: Make an informed and calculated judgement on weather to buy, hold, sell or pass on a memecoin.  GOAL: Your GOAL is to generate consistent profits over a **longer-term period (3 - 7 days)** by blending **momentum trading, volatility management, and adaptive feedback loops**.  STRATEGY: ### 1. **Initial Assessment for Entry**    - **Assess Pool Age:**      - If the pool was created recently (within 1-2 days), it suggests early-stage momentum. Prioritize memecoins that show strong early trading interest, as indicated by high **volume in the first 24 hours**.     - **Check FDV vs. Market Cap Ratio:**      - **FDV close to Market Cap:** Indicates potential bullishness with less risk of dilution. This supports entering a longer-term trade.      - **FDV significantly higher than Market Cap:** Indicates risk of dilution; proceed cautiously with tighter risk management.     - **Review Price Change Trends (up to 24hr):**      - Enter trades where there is a **consistent upward price change** across intervals (5m, 1hr, 6hr, 24hr), supported by rising volume.      - For a **bullish entry**, ensure positive price change across multiple intervals, particularly in 1hr, 6hr, and 24hr.  ### 2. **Incorporate Volatility Analysis**    - **Use ATR to Define Entry and Exit Ranges:**      - Calculate the **Average True Range (ATR)** to set entry and stop-loss levels. Wider ATR suggests higher potential rewards, but also increased risk.      - Set initial stop-loss levels at **1.5-2x the ATR** to avoid premature exits due to regular volatility.     - **Volatility Breakout Entry:**      - Enter long positions when the price breaks above recent volatility bands (e.g., Bollinger Bands), accompanied by strong volume over 6hr intervals.      - Avoid entering trades during extreme volatility spikes unless there is consistent follow-through in volume and price over longer intervals (6hr or more).  ### 3. **Adaptive Position Sizing**    - **Start with Smaller Initial Positions:**      - Given the high volatility, begin with a smaller position size to minimize risk. As the trend confirms (positive price and volume over 12hr), gradually increase the position size.     - **Adjust Position Based on Recent Trade Success:**      - If recent trades have been profitable, **increase position size by 10-20%** to capitalize on momentum.      - If recent trades have had high losses, **reduce position size** and tighten stops to avoid further losses.  ### 4. **Feedback Loop with Last Trades**    - **Analyze Trade Patterns:**      - Review the **last 5 trades** to identify common triggers for success or failure (e.g., rapid volume surges, resistance breakouts, or social media-driven momentum).      - If the **last profitable trades** had similar conditions (e.g., positive price change after volume spikes), replicate those entry conditions for prolonged trades.     - **Use Historical Exit Points for Guidance:**      - If past trades reached a **profit target of 10-20%** within 12-24 hours, set similar targets and be ready to adjust based on current momentum.      - If the last loss resulted from holding too long despite declining volume, be prepared to exit sooner in similar conditions.  ### 5. **Mid-Trade Management for 12-36 Hours**    - **Reassess at 12hr and 24hr Intervals:**      - Every 12 hours, evaluate whether the momentum is sustained: check volume, price change, and transaction patterns. If the volume remains strong and price trends are positive, maintain the position.     - **Trailing Stop-Loss:**      - Implement a **trailing stop-loss** based on the 6hr ATR to lock in profits as the price moves up. This allows you to capture gains while keeping the potential for further upside.      - Adjust the trailing stop if momentum remains strong after 24 hours, allowing for an extended hold.  ### 6. **Longer-Term Hold Strategy (Up to 7 Days)**    - **Monitor 24hr and 6hr Volume Trends:**      - If 24hr volume continues to rise, hold the position for up to 3 days to maximize gains.      - For holds longer than 3 days, ensure consistent positive price change in the 24hr interval and sustained volume increases.     - **Identify Extended Trends or Reversals:**      - Use **12hr and 24hr moving averages (MA)** as benchmarks:        - If the price consistently stays above the 12hr MA, it indicates sustained bullish momentum—hold longer.        - If the price drops below the 12hr MA, consider reducing position size or exiting partially.  ### 7. **Exit Criteria for 3-7 Days**    - **Profit Targets:**      - Set multiple profit targets (e.g., at +10%, +20%, and +30%).      - Use the **last 5 successful trades** to determine the most effective profit levels.     - **Volatility and Volume Drop:**      - Exit if there’s a significant **drop in 6hr or 24hr volume**, as it signals a decline in momentum.      - Exit earlier if there’s a sudden spike in **sell transactions** over 6hr intervals, indicating a potential trend reversal.    - **OHLCV Analysis:**     - If the **Open-High-Low-Close-Volume (OHLCV)** pattern shows consistent lower highs and lower lows over 24hr intervals, consider exiting to avoid further losses.     - If the OHLCV pattern remains bullish with higher highs and higher lows, consider holding the position for an extended period.     - You have OHLCV data in durations of 1 minute, 1 hour and 1 day. Access all of them carefully.  ### Summary of Strategy Workflow 1. **Entry:**    - Pool age, FDV vs. Market Cap, consistent positive price changes, and volatility breakout.  2. **Position Sizing:**    - Start small, scale up as momentum confirms, and adapt based on recent trades.  3. **Mid-Trade Management:**    - Reassess every 12hr, use trailing stops, and adjust based on ATR.  4. **Longer Hold:**    - Use 24hr volume and MA trends to sustain the trade.  5. **Exit:**    - Based on profit targets, volume drops, increased sell transactions, or external events.\" # @param {type: \"string\"}\n",
    "decision_prompt_portfolio = \"You are a seasoned crypto memecoin portfolio manager on Solana. Your only focus and job is keep increasing profits for yourself.  You are managing a portfolio of memecoins.  You are about to take following decision on your portfolio. You must analyze each of them critically. Specially look at the amount you're about to invest in each coin. Look at the coin's FDV and mcap and analyse if it's the best way to invest.  Also, you can rebalance your portfolio by selling some coins and buying new ones. You can also hold some coins if you think they have potential to grow further.\" # @param {type: \"string\"}\n",
    "twitter_username = \"0xmonk\" # @param {type: \"string\"}\n",
    "fc_username = \"0xmonk\" # @param {type: \"string\"}\n",
    "max_investment_per_session = 0.2 # @param {type:\"slider\", min:0, max:1, step:0.01}\n",
    "stop_loss = 0.5 # @param {type:\"slider\", min:0, max:1, step:0.01}\n",
    "trailing_stop_loss = 0.3 # @param {type:\"slider\", min:0, max:1, step:0.01}\n",
    "take_profit = 1.0 # @param {type:\"number\"}\n",
    "\n",
    "# @markdown ### Simulation specific settings\n",
    "simulation = True # @param {type: \"boolean\"}\n",
    "simulation_initial_usd = None # @param {type: \"number\"}\n",
    "simulation_initial_native = 1 # @param {type: \"number\"}\n",
    "chain = \"solana\" # @param [\"base\", \"solana\", \"arbitrum\"]\n",
    "mode = \"MANUAL\" # @param [\"MANUAL\", \"COPY_TRADE\", \"AUTONOMOUS\"]"
   ]
  },
  {
   "cell_type": "markdown",
   "metadata": {},
   "source": []
  },
  {
   "cell_type": "code",
   "execution_count": null,
   "metadata": {},
   "outputs": [],
   "source": [
    "agent = disciple.create_agent(fere_user_id, name,description,persona,data_source,\n",
    "             decision_prompt_pool, decision_prompt_portfolio, twitter_username,\n",
    "             fc_username, simulation, simulation_initial_usd, simulation_initial_native,\n",
    "             max_investment_per_session, stop_loss, trailing_stop_loss,\n",
    "             take_profit, chain, mode)\n",
    "\n",
    "pprint(agent)"
   ]
  },
  {
   "cell_type": "markdown",
   "metadata": {
    "id": "LSqeV-ORmaql"
   },
   "source": [
    "## 2. Get Disciple Agents from a given User"
   ]
  },
  {
   "cell_type": "code",
   "execution_count": null,
   "metadata": {
    "colab": {
     "base_uri": "https://localhost:8080/"
    },
    "id": "qkRu61Ohmra6",
    "outputId": "ff4bc13b-61b4-43d5-a13b-f3fbf1582715"
   },
   "outputs": [],
   "source": [
    "pprint(disciple.fetch_disciples(fere_user_id))"
   ]
  },
  {
   "cell_type": "markdown",
   "metadata": {
    "id": "MkgUenoSnnpY"
   },
   "source": [
    "## 3. Get portfolio"
   ]
  },
  {
   "cell_type": "code",
   "execution_count": null,
   "metadata": {
    "id": "HKlwiMX8nsOE"
   },
   "outputs": [],
   "source": [
    "disciple_agent_id = \"17491a7f-3049-4346-abc8-0d8cba1a55af\" # @param {type: \"string\"}\n"
   ]
  },
  {
   "cell_type": "code",
   "execution_count": null,
   "metadata": {
    "colab": {
     "base_uri": "https://localhost:8080/"
    },
    "id": "dZGBmtvlnl8D",
    "outputId": "c4a51a68-5b86-46ca-f03f-cdd5a2398df2"
   },
   "outputs": [],
   "source": [
    "portfolio = disciple.get_portfolio(disciple_agent_id)\n",
    "\n",
    "curr_amount = portfolio['curr_realised_usd'] + portfolio['curr_unrealised_usd']\n",
    "profit = curr_amount - portfolio['start_usd']\n",
    "profit_percent = (profit / portfolio['start_usd']) * 100\n",
    "\n",
    "pprint(portfolio)\n",
    "pprint(f\"Profit %: {profit_percent}\")"
   ]
  },
  {
   "cell_type": "markdown",
   "metadata": {
    "id": "s0lMGAtwoUMq"
   },
   "source": [
    "## 4. Get Holdings"
   ]
  },
  {
   "cell_type": "code",
   "execution_count": null,
   "metadata": {
    "colab": {
     "base_uri": "https://localhost:8080/"
    },
    "id": "Br5aHudoobyE",
    "outputId": "4362d6f2-ae93-49ad-e4ca-71ac983aeb02"
   },
   "outputs": [],
   "source": [
    "holdings = disciple.get_holdings(disciple_agent_id)\n",
    "\n",
    "print(f\"Total holdings: {len(holdings)}\")\n",
    "\n",
    "_h = []\n",
    "for h in holdings:\n",
    "  _h.append([h['base_address'], h['pool_name'], h['tokens_bought']])\n",
    "\n",
    "headers = [\"Base Address\", \"Pool Name\", \"Tokens Bought\"]\n",
    "print(tabulate(_h, headers=headers))"
   ]
  },
  {
   "cell_type": "markdown",
   "metadata": {
    "id": "NPTzHO0Xol1i"
   },
   "source": [
    "## 5. Get Trades\n"
   ]
  },
  {
   "cell_type": "code",
   "execution_count": null,
   "metadata": {
    "colab": {
     "base_uri": "https://localhost:8080/"
    },
    "id": "lcmlnWqxopqW",
    "outputId": "422e8370-6a64-4efc-b29e-cd6a46573907"
   },
   "outputs": [],
   "source": [
    "\n",
    "trades = disciple.get_trades(disciple_agent_id)\n",
    "print(trades)\n",
    "\n",
    "_t = []\n",
    "for t in trades:\n",
    "  _t.append([\n",
    "    t['base_address'],\n",
    "    t['pool_name'],\n",
    "    'buy' if t['decision'] == 1 else 'sell',\n",
    "    t['in_amount'],\n",
    "    t['out_amount'],\n",
    "    t['price_usd'],\n",
    "    t['created_at'],\n",
    "    t['txn']])\n",
    "\n",
    "headers =  ['Base Address', 'Pool Name', 'Decision', 'In Amount', 'Out Amount', 'Price USD', 'Created At', 'Txn']\n",
    "\n",
    "print(f\"Total Trades: {len(trades)}\")\n",
    "\n",
    "print(tabulate(_t, headers=headers))"
   ]
  },
  {
   "cell_type": "markdown",
   "metadata": {
    "id": "jeqvlxYLo3fP"
   },
   "source": [
    "## 6. Get Optimal gains"
   ]
  },
  {
   "cell_type": "code",
   "execution_count": null,
   "metadata": {
    "colab": {
     "base_uri": "https://localhost:8080/"
    },
    "id": "sbUSHXGeo-mc",
    "outputId": "bb04ddbf-a11b-4a97-ee49-7bccf34ebbec"
   },
   "outputs": [],
   "source": [
    "disciple.get_optimal_gains(disciple_agent_id)"
   ]
  },
  {
   "cell_type": "markdown",
   "metadata": {
    "id": "mkJrR-5MqfZ_"
   },
   "source": [
    "## 7. Sell a holding manually"
   ]
  },
  {
   "cell_type": "code",
   "execution_count": null,
   "metadata": {
    "id": "b9pOhF-iqb5P"
   },
   "outputs": [],
   "source": [
    "holding_id = \"\" # @param {type: \"string\"}\n",
    "quantity = \"all\" # @param {type: \"string\"}"
   ]
  },
  {
   "cell_type": "markdown",
   "metadata": {
    "id": "p91xUzeXrA_d"
   },
   "source": [
    "A sell is executed as a background task. Upon calling the sell API, it returns a task ID. This task ID will be used to check the task status."
   ]
  },
  {
   "cell_type": "code",
   "execution_count": null,
   "metadata": {
    "id": "o8GpdopQqkIV"
   },
   "outputs": [],
   "source": [
    "\n",
    "task = disciple.schedule_sell(disciple_agent_id, holding_id, quantity)\n",
    "\n",
    "pprint(task)"
   ]
  },
  {
   "cell_type": "markdown",
   "metadata": {
    "id": "1CEquaLArJjX"
   },
   "source": [
    "Now once we have the task ID, we can check the status of the task."
   ]
  },
  {
   "cell_type": "code",
   "execution_count": null,
   "metadata": {
    "id": "wYdgZpiMrJIi"
   },
   "outputs": [],
   "source": [
    "status = disciple.check_task_status(task['task_id'])\n",
    "\n",
    "print(status)"
   ]
  },
  {
   "cell_type": "markdown",
   "metadata": {
    "id": "4aS8My10rakZ"
   },
   "source": [
    "Depending on the status, show the updates to user."
   ]
  },
  {
   "cell_type": "markdown",
   "metadata": {},
   "source": [
    "## 8. Buy a coin manually"
   ]
  },
  {
   "cell_type": "code",
   "execution_count": null,
   "metadata": {},
   "outputs": [],
   "source": [
    "solana_ca = \"6uGrKeFiTccSi4JdTQnfu43bn4p5A8qnSqSbABampump\" # @param {type: \"string\"}\n",
    "base_ca = \"0x23dD3Ce6161422622E773E13dAC2781C7f990D45\" # @param {type: \"string\"}\n",
    "arb_ca = \"0x37a645648dF29205C6261289983FB04ECD70b4B3\" # @param {type: \"string\"}\n",
    "\n",
    "ca_to_buy = solana_ca"
   ]
  },
  {
   "cell_type": "code",
   "execution_count": null,
   "metadata": {},
   "outputs": [],
   "source": [
    "task_ = disciple.schedule_buy(disciple_agent_id, ca_to_buy, 100, 1)"
   ]
  },
  {
   "cell_type": "code",
   "execution_count": null,
   "metadata": {},
   "outputs": [],
   "source": [
    "status = disciple.check_task_status(task_['task_id'])\n",
    "\n",
    "print(status)"
   ]
  },
  {
   "cell_type": "markdown",
   "metadata": {},
   "source": [
    "## 9. Get the decisions of the Agent"
   ]
  },
  {
   "cell_type": "code",
   "execution_count": null,
   "metadata": {},
   "outputs": [],
   "source": [
    "response = disciple.get_decisions(disciple_agent_id)\n",
    "\n",
    "pprint(response)"
   ]
  },
  {
   "cell_type": "markdown",
   "metadata": {
    "id": "q8rUOFQkrkcN"
   },
   "source": [
    "# Disciple Lifecycle APIs"
   ]
  },
  {
   "cell_type": "markdown",
   "metadata": {
    "id": "I1iJW6RTr3zR"
   },
   "source": [
    "## 10. Update a Disciple"
   ]
  },
  {
   "cell_type": "code",
   "execution_count": null,
   "metadata": {
    "id": "rzMDCJE7r8Uk"
   },
   "outputs": [],
   "source": [
    "disciple_id = \"\" # @param {type: \"string\"}\n",
    "name = \"Disciple 420\" # @param {type: \"string\"}\n",
    "description = \"A loyal and trusted disciple of MONK\" # @param {type: \"string\"}\n",
    "persona = \"A loyal and trusted disciple of MONK\" # @param {type: \"string\"}\n",
    "data_source = \"trending\" # @param [\"trending\", \"latest\"]\n",
    "decision_prompt_pool = \"You are a pro memecoin trader on Solana. Use your understanding of memcoins, market psychology and on-chain metrics to identify coins with high growth potentials.  MISSION: Make an informed and calculated judgement on weather to buy, hold, sell or pass on a memecoin.  GOAL: Your GOAL is to generate consistent profits over a **longer-term period (3 - 7 days)** by blending **momentum trading, volatility management, and adaptive feedback loops**.  STRATEGY: ### 1. **Initial Assessment for Entry**    - **Assess Pool Age:**      - If the pool was created recently (within 1-2 days), it suggests early-stage momentum. Prioritize memecoins that show strong early trading interest, as indicated by high **volume in the first 24 hours**.     - **Check FDV vs. Market Cap Ratio:**      - **FDV close to Market Cap:** Indicates potential bullishness with less risk of dilution. This supports entering a longer-term trade.      - **FDV significantly higher than Market Cap:** Indicates risk of dilution; proceed cautiously with tighter risk management.     - **Review Price Change Trends (up to 24hr):**      - Enter trades where there is a **consistent upward price change** across intervals (5m, 1hr, 6hr, 24hr), supported by rising volume.      - For a **bullish entry**, ensure positive price change across multiple intervals, particularly in 1hr, 6hr, and 24hr.  ### 2. **Incorporate Volatility Analysis**    - **Use ATR to Define Entry and Exit Ranges:**      - Calculate the **Average True Range (ATR)** to set entry and stop-loss levels. Wider ATR suggests higher potential rewards, but also increased risk.      - Set initial stop-loss levels at **1.5-2x the ATR** to avoid premature exits due to regular volatility.     - **Volatility Breakout Entry:**      - Enter long positions when the price breaks above recent volatility bands (e.g., Bollinger Bands), accompanied by strong volume over 6hr intervals.      - Avoid entering trades during extreme volatility spikes unless there is consistent follow-through in volume and price over longer intervals (6hr or more).  ### 3. **Adaptive Position Sizing**    - **Start with Smaller Initial Positions:**      - Given the high volatility, begin with a smaller position size to minimize risk. As the trend confirms (positive price and volume over 12hr), gradually increase the position size.     - **Adjust Position Based on Recent Trade Success:**      - If recent trades have been profitable, **increase position size by 10-20%** to capitalize on momentum.      - If recent trades have had high losses, **reduce position size** and tighten stops to avoid further losses.  ### 4. **Feedback Loop with Last Trades**    - **Analyze Trade Patterns:**      - Review the **last 5 trades** to identify common triggers for success or failure (e.g., rapid volume surges, resistance breakouts, or social media-driven momentum).      - If the **last profitable trades** had similar conditions (e.g., positive price change after volume spikes), replicate those entry conditions for prolonged trades.     - **Use Historical Exit Points for Guidance:**      - If past trades reached a **profit target of 10-20%** within 12-24 hours, set similar targets and be ready to adjust based on current momentum.      - If the last loss resulted from holding too long despite declining volume, be prepared to exit sooner in similar conditions.  ### 5. **Mid-Trade Management for 12-36 Hours**    - **Reassess at 12hr and 24hr Intervals:**      - Every 12 hours, evaluate whether the momentum is sustained: check volume, price change, and transaction patterns. If the volume remains strong and price trends are positive, maintain the position.     - **Trailing Stop-Loss:**      - Implement a **trailing stop-loss** based on the 6hr ATR to lock in profits as the price moves up. This allows you to capture gains while keeping the potential for further upside.      - Adjust the trailing stop if momentum remains strong after 24 hours, allowing for an extended hold.  ### 6. **Longer-Term Hold Strategy (Up to 7 Days)**    - **Monitor 24hr and 6hr Volume Trends:**      - If 24hr volume continues to rise, hold the position for up to 3 days to maximize gains.      - For holds longer than 3 days, ensure consistent positive price change in the 24hr interval and sustained volume increases.     - **Identify Extended Trends or Reversals:**      - Use **12hr and 24hr moving averages (MA)** as benchmarks:        - If the price consistently stays above the 12hr MA, it indicates sustained bullish momentum—hold longer.        - If the price drops below the 12hr MA, consider reducing position size or exiting partially.  ### 7. **Exit Criteria for 3-7 Days**    - **Profit Targets:**      - Set multiple profit targets (e.g., at +10%, +20%, and +30%).      - Use the **last 5 successful trades** to determine the most effective profit levels.     - **Volatility and Volume Drop:**      - Exit if there’s a significant **drop in 6hr or 24hr volume**, as it signals a decline in momentum.      - Exit earlier if there’s a sudden spike in **sell transactions** over 6hr intervals, indicating a potential trend reversal.    - **OHLCV Analysis:**     - If the **Open-High-Low-Close-Volume (OHLCV)** pattern shows consistent lower highs and lower lows over 24hr intervals, consider exiting to avoid further losses.     - If the OHLCV pattern remains bullish with higher highs and higher lows, consider holding the position for an extended period.     - You have OHLCV data in durations of 1 minute, 1 hour and 1 day. Access all of them carefully.  ### Summary of Strategy Workflow 1. **Entry:**    - Pool age, FDV vs. Market Cap, consistent positive price changes, and volatility breakout.  2. **Position Sizing:**    - Start small, scale up as momentum confirms, and adapt based on recent trades.  3. **Mid-Trade Management:**    - Reassess every 12hr, use trailing stops, and adjust based on ATR.  4. **Longer Hold:**    - Use 24hr volume and MA trends to sustain the trade.  5. **Exit:**    - Based on profit targets, volume drops, increased sell transactions, or external events.\" # @param {type: \"string\"}\n",
    "decision_prompt_portfolio = \"You are a seasoned crypto memecoin portfolio manager on Solana. Your only focus and job is keep increasing profits for yourself.  You are managing a portfolio of memecoins.  You are about to take following decision on your portfolio. You must analyze each of them critically. Specially look at the amount you're about to invest in each coin. Look at the coin's FDV and mcap and analyse if it's the best way to invest.  Also, you can rebalance your portfolio by selling some coins and buying new ones. You can also hold some coins if you think they have potential to grow further.\" # @param {type: \"string\"}\n",
    "twitter_username = \"0xmonk\" # @param {type: \"string\"}\n",
    "fc_username = \"0xmonk\" # @param {type: \"string\"}\n",
    "max_investment_per_session = 0.2 # @param {type:\"slider\", min:0, max:1, step:0.01}\n",
    "stop_loss = 0.5 # @param {type:\"slider\", min:0, max:1, step:0.01}\n",
    "trailing_stop_loss = 0.3 # @param {type:\"slider\", min:0, max:1, step:0.01}\n",
    "take_profit = 1.0 # @param {type:\"number\"}\n",
    "\n",
    "# @markdown ### Simulation specific settings\n",
    "simulation = True # @param {type: \"boolean\"}\n",
    "simulation_initial_usd = 1000 # @param {type: \"number\"}"
   ]
  },
  {
   "cell_type": "code",
   "execution_count": null,
   "metadata": {},
   "outputs": [],
   "source": [
    "# Set the agent to OnChain Mode\n",
    "disciple_id = \"bd504501-5235-486e-ad78-6906601d1ca6\" # @param {type: \"string\"}\n",
    "\n",
    "updates = {\n",
    "    \"dry_run\": False,\n",
    "}\n",
    "\n",
    "disciple.update_agent(disciple_id, **updates)"
   ]
  },
  {
   "cell_type": "markdown",
   "metadata": {},
   "source": [
    "### 10.1. Pause an agent"
   ]
  },
  {
   "cell_type": "code",
   "execution_count": null,
   "metadata": {},
   "outputs": [],
   "source": [
    "\n",
    "disciple_id = \"789aa167-3b2a-4a0f-8734-c82f2d93e22a\" # @param {type: \"string\"}\n",
    "\n",
    "updates = {\n",
    "    \"is_active\": False,\n",
    "}\n",
    "\n",
    "disciple.update_agent(disciple_id, **updates)"
   ]
  },
  {
   "cell_type": "markdown",
   "metadata": {
    "id": "NdIeVel9sWUX"
   },
   "source": [
    "## 11. Delete the Agent"
   ]
  },
  {
   "cell_type": "code",
   "execution_count": null,
   "metadata": {
    "id": "zZBIoJzUsZJ4"
   },
   "outputs": [],
   "source": [
    "res = disciple.delete_disciple(disciple_id)\n",
    "\n",
    "pprint(res)"
   ]
  },
  {
   "cell_type": "markdown",
   "metadata": {},
   "source": [
    "## 11. Get an agent details"
   ]
  },
  {
   "cell_type": "code",
   "execution_count": null,
   "metadata": {},
   "outputs": [],
   "source": [
    "res = disciple.get_agent(\"789aa167-3b2a-4a0f-8734-c82f2d93e22a\")\n",
    "pprint(res)"
   ]
  }
 ],
 "metadata": {
  "colab": {
   "provenance": []
  },
  "kernelspec": {
   "display_name": "venv",
   "language": "python",
   "name": "python3"
  },
  "language_info": {
   "codemirror_mode": {
    "name": "ipython",
    "version": 3
   },
   "file_extension": ".py",
   "mimetype": "text/x-python",
   "name": "python",
   "nbconvert_exporter": "python",
   "pygments_lexer": "ipython3",
   "version": "3.12.2"
  }
 },
 "nbformat": 4,
 "nbformat_minor": 0
}
