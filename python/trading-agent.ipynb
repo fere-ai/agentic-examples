{
 "cells": [
  {
   "cell_type": "markdown",
   "metadata": {
    "id": "sYZ1lwUagkAy"
   },
   "source": [
    "# Autonomous Trading Agents - With 0xMONK from FereAI\n",
    "\n",
    "<a target=\"_blank\" href=\"https://colab.research.google.com/github/fere-ai/agentic-examples/blob/main/python/trading-agent.ipynb\">\n",
    "  <img src=\"https://colab.research.google.com/assets/colab-badge.svg\" alt=\"Open In Colab\"/>\n",
    "</a>\n",
    "\n",
    "This notebook demonstrates the ease of building autonomous trading agents. It's super easy using the `0xMONK` APIs from FereAI.\n",
    "\n",
    "- [Developer Docs](https://docs.fereai.xyz/docs/api/api-introduction)\n",
    "- [Get Your API Key](https://docs.google.com/forms/d/e/1FAIpQLScFAWfT5u2kwKx8tQkkL9AfdP8NIlNIn6tXJUQcRipZEUZokA/viewform)\n",
    "- [#dev-help on our Discord](https://discord.com/invite/3fsm5XJNW8)"
   ]
  },
  {
   "cell_type": "code",
   "execution_count": 1,
   "metadata": {
    "id": "lmnzhvNFgih8"
   },
   "outputs": [],
   "source": [
    "import requests\n",
    "import json\n",
    "from pprint import pprint"
   ]
  },
  {
   "cell_type": "code",
   "execution_count": 2,
   "metadata": {
    "id": "g0rX5mS5gtKw"
   },
   "outputs": [],
   "source": [
    "fere_api_key = \"YOUR_API_KEY\" # @param {type: \"string\"}\n",
    "fere_user_id = \"3fa85f64-5717-4562-b3fc-2c963f66afa6\" # @param {type: \"string\"}\n",
    "\n",
    "api_headers = {\n",
    "  'Content-Type': 'application/json',\n",
    "  'Accept': 'application/json',\n",
    "  'X-FRIDAY-KEY': fere_api_key\n",
    "}"
   ]
  },
  {
   "cell_type": "code",
   "execution_count": 9,
   "metadata": {},
   "outputs": [],
   "source": [
    "class DiscipleClient:\n",
    "    # base_url = \"https://api.fereai.xyz/ta/\"\n",
    "    base_url = \"http://localhost:8000/ta/\"\n",
    "\n",
    "    def __init__(self, api_key):\n",
    "        \"\"\"\n",
    "        Initializes the FereAI class with an API key.\n",
    "\n",
    "        Args:\n",
    "            api_key (str): The API key for authenticating requests.\n",
    "        \"\"\"\n",
    "        self.api_key = api_key\n",
    "\n",
    "    @property\n",
    "    def api_headers(self):\n",
    "        \"\"\"\n",
    "        Generates headers for API requests.\n",
    "\n",
    "        Returns:\n",
    "            dict: The headers including the Authorization key.\n",
    "        \"\"\"\n",
    "        return {\"X-FRIDAY-KEY\": self.api_key, \"Content-Type\": \"application/json\"}\n",
    "\n",
    "    def create_agent(\n",
    "      self,\n",
    "      fere_user_id,\n",
    "      name,\n",
    "      description,\n",
    "      persona,\n",
    "      data_source,\n",
    "      decision_prompt_pool,\n",
    "      decision_prompt_portfolio,\n",
    "      twitter_username=None,\n",
    "      fc_username=None,\n",
    "      simulation=False,\n",
    "      simulation_initial_usd=0,\n",
    "      max_investment_per_session=0,\n",
    "      stop_loss=0,\n",
    "      trailing_stop_loss=0,\n",
    "      take_profit=0,\n",
    "      ):\n",
    "      url = self.base_url + \"agent/\"\n",
    "      payload = json.dumps({\n",
    "          \"user_id\": fere_user_id,\n",
    "          \"name\": name,\n",
    "          \"description\": description,\n",
    "          \"persona\": persona,\n",
    "          \"data_source\": data_source,\n",
    "          \"decision_prompt_pool\": decision_prompt_pool,\n",
    "          \"decision_prompt_portfolio\": decision_prompt_portfolio,\n",
    "          \"twitter_username\": twitter_username,\n",
    "          \"fc_username\": fc_username,\n",
    "          \"dry_run\": simulation,\n",
    "          \"dry_run_initial_usd\": simulation_initial_usd,\n",
    "          \"max_investment_per_session\": max_investment_per_session,\n",
    "          \"stop_loss\": stop_loss,\n",
    "          \"trailing_stop_loss\": trailing_stop_loss,\n",
    "          \"take_profit\": take_profit\n",
    "      })\n",
    "\n",
    "      response = requests.put(url, headers=self.api_headers, data=payload)\n",
    "\n",
    "      if response.status_code == 200:\n",
    "          data = response.json()\n",
    "          pprint(\"Agent created\")\n",
    "          pprint(data)\n",
    "          return data\n",
    "      else:\n",
    "          print(response.text)\n",
    "          return None\n",
    "\n",
    "\n",
    "    def fetch_disciples(self, fere_user_id):\n",
    "        \"\"\"\n",
    "        Fetches disciples for a user ID.\n",
    "\n",
    "        Args:\n",
    "            fere_user_id (str): The user ID.\n",
    "\n",
    "        Returns:\n",
    "            list: A list of disciples or an empty list on failure.\n",
    "        \"\"\"\n",
    "        url = f\"{self.base_url}agent/{fere_user_id}/\"\n",
    "        response = requests.get(url, headers=self.api_headers)\n",
    "\n",
    "        if response.status_code == 200:\n",
    "            data = response.json()\n",
    "            print(f\"Disciples Created: {len(data)}\\n\")\n",
    "            for disciple in data:\n",
    "                print(f\"Name: {disciple['name']}\")\n",
    "                print(f\"ID: {disciple['id']}\\n\")\n",
    "            return data\n",
    "        else:\n",
    "            print(f\"Failed to fetch disciples: {response.text}\")\n",
    "            return []\n",
    "\n",
    "    def get_portfolio(self, disciple_agent_id):\n",
    "        \"\"\"\n",
    "        Fetches portfolio for a disciple agent.\n",
    "\n",
    "        Args:\n",
    "            disciple_agent_id (str): The agent ID.\n",
    "\n",
    "        Returns:\n",
    "            dict or None: The portfolio data or None on failure.\n",
    "        \"\"\"\n",
    "        url = f\"{self.base_url}agent/{disciple_agent_id}/portfolio/\"\n",
    "        response = requests.get(url, headers=self.api_headers)\n",
    "\n",
    "        if response.status_code == 200:\n",
    "            return response.json()\n",
    "        else:\n",
    "            print(response.text)\n",
    "            return None\n",
    "\n",
    "    def get_holdings(self, disciple_agent_id):\n",
    "        \"\"\"\n",
    "        Fetches holdings for a disciple agent.\n",
    "\n",
    "        Args:\n",
    "            disciple_agent_id (str): The agent ID.\n",
    "\n",
    "        Returns:\n",
    "            list or None: The holdings data or None on failure.\n",
    "        \"\"\"\n",
    "        url = f\"{self.base_url}agent/{disciple_agent_id}/holdings/\"\n",
    "        response = requests.get(url, headers=self.api_headers)\n",
    "\n",
    "        if response.status_code == 200:\n",
    "            data = response.json()\n",
    "            print(f\"Total holdings: {len(data)}\")\n",
    "            pprint(data)\n",
    "            return data\n",
    "        else:\n",
    "            print(response.text)\n",
    "            return None\n",
    "\n",
    "    def get_trades(self, disciple_agent_id):\n",
    "        \"\"\"\n",
    "        Fetches trades for a disciple agent.\n",
    "\n",
    "        Args:\n",
    "            disciple_agent_id (str): The agent ID.\n",
    "\n",
    "        Returns:\n",
    "            dict or None: The trades data or None on failure.\n",
    "        \"\"\"\n",
    "        url = f\"{self.base_url}agent/{disciple_agent_id}/trades/\"\n",
    "        response = requests.get(url, headers=self.api_headers)\n",
    "\n",
    "        if response.status_code == 200:\n",
    "            return response.json()\n",
    "        else:\n",
    "            pprint(response.text)\n",
    "            return None\n",
    "\n",
    "    def get_optimal_gains(self, disciple_agent_id):\n",
    "        \"\"\"\n",
    "        Fetches optimal gains for a disciple agent.\n",
    "\n",
    "        Args:\n",
    "            disciple_agent_id (str): The agent ID.\n",
    "\n",
    "        Returns:\n",
    "            dict or None: The optimal gains data or None on failure.\n",
    "        \"\"\"\n",
    "        url = f\"{self.base_url}agent/{disciple_agent_id}/buy/\"\n",
    "        response = requests.get(url, headers=self.api_headers)\n",
    "\n",
    "        if response.status_code == 200:\n",
    "            return response.json()\n",
    "        else:\n",
    "            print(response.text)\n",
    "            return None\n",
    "\n",
    "    def update_agent(self, disciple_id, **kwargs):\n",
    "        \"\"\"\n",
    "        Updates an agent.\n",
    "\n",
    "        Args:\n",
    "            disciple_id (str): The agent ID.\n",
    "            **kwargs: Parameters for updating the agent.\n",
    "\n",
    "        Returns:\n",
    "            dict or None: The updated agent data or None on failure.\n",
    "        \"\"\"\n",
    "        url = f\"{self.base_url}agent/{disciple_id}/\"\n",
    "        payload = json.dumps(kwargs)\n",
    "        response = requests.patch(url, headers=self.api_headers, data=payload)\n",
    "\n",
    "        if response.status_code == 200:\n",
    "            return response.json()\n",
    "        else:\n",
    "            print(response.text)\n",
    "            return None\n",
    "\n",
    "    def delete_disciple(self, disciple_agent_id):\n",
    "        \"\"\"\n",
    "        Deletes a disciple agent.\n",
    "\n",
    "        Args:\n",
    "            disciple_agent_id (str): The agent ID.\n",
    "\n",
    "        Returns:\n",
    "            dict or None: The response data or None on failure.\n",
    "        \"\"\"\n",
    "        url = f\"{self.base_url}agent/{disciple_agent_id}/\"\n",
    "        response = requests.delete(url, headers=self.api_headers)\n",
    "\n",
    "        if response.status_code == 200:\n",
    "            return response.json()\n",
    "        else:\n",
    "            print(response.text)\n",
    "            return None\n"
   ]
  },
  {
   "cell_type": "markdown",
   "metadata": {
    "id": "rkK8cRjyhCTW"
   },
   "source": [
    "## 1. Create an Agent\n",
    "\n",
    "Instructions Examples: https://docs.fereai.xyz/docs/product/0xMONK/#coin-decision-instructions\n"
   ]
  },
  {
   "cell_type": "code",
   "execution_count": 7,
   "metadata": {
    "id": "Qb5xAFyjhEmx"
   },
   "outputs": [],
   "source": [
    "name = \"Disciple 421\" # @param {type: \"string\"}\n",
    "description = \"A loyal and trusted disciple of MONK\" # @param {type: \"string\"}\n",
    "persona = \"A loyal and trusted disciple of MONK\" # @param {type: \"string\"}\n",
    "data_source = \"trending\" # @param [\"trending\", \"latest\"]\n",
    "decision_prompt_pool = \"You are a pro memecoin trader on Solana. Use your understanding of memcoins, market psychology and on-chain metrics to identify coins with high growth potentials.  MISSION: Make an informed and calculated judgement on weather to buy, hold, sell or pass on a memecoin.  GOAL: Your GOAL is to generate consistent profits over a **longer-term period (3 - 7 days)** by blending **momentum trading, volatility management, and adaptive feedback loops**.  STRATEGY: ### 1. **Initial Assessment for Entry**    - **Assess Pool Age:**      - If the pool was created recently (within 1-2 days), it suggests early-stage momentum. Prioritize memecoins that show strong early trading interest, as indicated by high **volume in the first 24 hours**.     - **Check FDV vs. Market Cap Ratio:**      - **FDV close to Market Cap:** Indicates potential bullishness with less risk of dilution. This supports entering a longer-term trade.      - **FDV significantly higher than Market Cap:** Indicates risk of dilution; proceed cautiously with tighter risk management.     - **Review Price Change Trends (up to 24hr):**      - Enter trades where there is a **consistent upward price change** across intervals (5m, 1hr, 6hr, 24hr), supported by rising volume.      - For a **bullish entry**, ensure positive price change across multiple intervals, particularly in 1hr, 6hr, and 24hr.  ### 2. **Incorporate Volatility Analysis**    - **Use ATR to Define Entry and Exit Ranges:**      - Calculate the **Average True Range (ATR)** to set entry and stop-loss levels. Wider ATR suggests higher potential rewards, but also increased risk.      - Set initial stop-loss levels at **1.5-2x the ATR** to avoid premature exits due to regular volatility.     - **Volatility Breakout Entry:**      - Enter long positions when the price breaks above recent volatility bands (e.g., Bollinger Bands), accompanied by strong volume over 6hr intervals.      - Avoid entering trades during extreme volatility spikes unless there is consistent follow-through in volume and price over longer intervals (6hr or more).  ### 3. **Adaptive Position Sizing**    - **Start with Smaller Initial Positions:**      - Given the high volatility, begin with a smaller position size to minimize risk. As the trend confirms (positive price and volume over 12hr), gradually increase the position size.     - **Adjust Position Based on Recent Trade Success:**      - If recent trades have been profitable, **increase position size by 10-20%** to capitalize on momentum.      - If recent trades have had high losses, **reduce position size** and tighten stops to avoid further losses.  ### 4. **Feedback Loop with Last Trades**    - **Analyze Trade Patterns:**      - Review the **last 5 trades** to identify common triggers for success or failure (e.g., rapid volume surges, resistance breakouts, or social media-driven momentum).      - If the **last profitable trades** had similar conditions (e.g., positive price change after volume spikes), replicate those entry conditions for prolonged trades.     - **Use Historical Exit Points for Guidance:**      - If past trades reached a **profit target of 10-20%** within 12-24 hours, set similar targets and be ready to adjust based on current momentum.      - If the last loss resulted from holding too long despite declining volume, be prepared to exit sooner in similar conditions.  ### 5. **Mid-Trade Management for 12-36 Hours**    - **Reassess at 12hr and 24hr Intervals:**      - Every 12 hours, evaluate whether the momentum is sustained: check volume, price change, and transaction patterns. If the volume remains strong and price trends are positive, maintain the position.     - **Trailing Stop-Loss:**      - Implement a **trailing stop-loss** based on the 6hr ATR to lock in profits as the price moves up. This allows you to capture gains while keeping the potential for further upside.      - Adjust the trailing stop if momentum remains strong after 24 hours, allowing for an extended hold.  ### 6. **Longer-Term Hold Strategy (Up to 7 Days)**    - **Monitor 24hr and 6hr Volume Trends:**      - If 24hr volume continues to rise, hold the position for up to 3 days to maximize gains.      - For holds longer than 3 days, ensure consistent positive price change in the 24hr interval and sustained volume increases.     - **Identify Extended Trends or Reversals:**      - Use **12hr and 24hr moving averages (MA)** as benchmarks:        - If the price consistently stays above the 12hr MA, it indicates sustained bullish momentum—hold longer.        - If the price drops below the 12hr MA, consider reducing position size or exiting partially.  ### 7. **Exit Criteria for 3-7 Days**    - **Profit Targets:**      - Set multiple profit targets (e.g., at +10%, +20%, and +30%).      - Use the **last 5 successful trades** to determine the most effective profit levels.     - **Volatility and Volume Drop:**      - Exit if there’s a significant **drop in 6hr or 24hr volume**, as it signals a decline in momentum.      - Exit earlier if there’s a sudden spike in **sell transactions** over 6hr intervals, indicating a potential trend reversal.    - **OHLCV Analysis:**     - If the **Open-High-Low-Close-Volume (OHLCV)** pattern shows consistent lower highs and lower lows over 24hr intervals, consider exiting to avoid further losses.     - If the OHLCV pattern remains bullish with higher highs and higher lows, consider holding the position for an extended period.     - You have OHLCV data in durations of 1 minute, 1 hour and 1 day. Access all of them carefully.  ### Summary of Strategy Workflow 1. **Entry:**    - Pool age, FDV vs. Market Cap, consistent positive price changes, and volatility breakout.  2. **Position Sizing:**    - Start small, scale up as momentum confirms, and adapt based on recent trades.  3. **Mid-Trade Management:**    - Reassess every 12hr, use trailing stops, and adjust based on ATR.  4. **Longer Hold:**    - Use 24hr volume and MA trends to sustain the trade.  5. **Exit:**    - Based on profit targets, volume drops, increased sell transactions, or external events.\" # @param {type: \"string\"}\n",
    "decision_prompt_portfolio = \"You are a seasoned crypto memecoin portfolio manager on Solana. Your only focus and job is keep increasing profits for yourself.  You are managing a portfolio of memecoins.  You are about to take following decision on your portfolio. You must analyze each of them critically. Specially look at the amount you're about to invest in each coin. Look at the coin's FDV and mcap and analyse if it's the best way to invest.  Also, you can rebalance your portfolio by selling some coins and buying new ones. You can also hold some coins if you think they have potential to grow further.\" # @param {type: \"string\"}\n",
    "twitter_username = \"0xmonk\" # @param {type: \"string\"}\n",
    "fc_username = \"0xmonk\" # @param {type: \"string\"}\n",
    "max_investment_per_session = 0.2 # @param {type:\"slider\", min:0, max:1, step:0.01}\n",
    "stop_loss = 0.5 # @param {type:\"slider\", min:0, max:1, step:0.01}\n",
    "trailing_stop_loss = 0.3 # @param {type:\"slider\", min:0, max:1, step:0.01}\n",
    "take_profit = 1.0 # @param {type:\"number\"}\n",
    "\n",
    "# @markdown ### Simulation specific settings\n",
    "simulation = True # @param {type: \"boolean\"}\n",
    "simulation_initial_usd = 1000 # @param {type: \"number\"}\n"
   ]
  },
  {
   "cell_type": "code",
   "execution_count": 10,
   "metadata": {
    "colab": {
     "base_uri": "https://localhost:8080/"
    },
    "id": "jJtQe8pYkBL_",
    "outputId": "cda0c48a-c434-4274-ab49-3698563d5595"
   },
   "outputs": [
    {
     "ename": "ConnectionError",
     "evalue": "HTTPConnectionPool(host='localhost', port=8000): Max retries exceeded with url: /ta/agent/ (Caused by NewConnectionError('<urllib3.connection.HTTPConnection object at 0x74e920843e90>: Failed to establish a new connection: [Errno 111] Connection refused'))",
     "output_type": "error",
     "traceback": [
      "\u001b[0;31m---------------------------------------------------------------------------\u001b[0m",
      "\u001b[0;31mConnectionRefusedError\u001b[0m                    Traceback (most recent call last)",
      "File \u001b[0;32m~/workspace/fere-ai/agentic-examples/venv/lib/python3.12/site-packages/urllib3/connection.py:199\u001b[0m, in \u001b[0;36mHTTPConnection._new_conn\u001b[0;34m(self)\u001b[0m\n\u001b[1;32m    198\u001b[0m \u001b[38;5;28;01mtry\u001b[39;00m:\n\u001b[0;32m--> 199\u001b[0m     sock \u001b[38;5;241m=\u001b[39m \u001b[43mconnection\u001b[49m\u001b[38;5;241;43m.\u001b[39;49m\u001b[43mcreate_connection\u001b[49m\u001b[43m(\u001b[49m\n\u001b[1;32m    200\u001b[0m \u001b[43m        \u001b[49m\u001b[43m(\u001b[49m\u001b[38;5;28;43mself\u001b[39;49m\u001b[38;5;241;43m.\u001b[39;49m\u001b[43m_dns_host\u001b[49m\u001b[43m,\u001b[49m\u001b[43m \u001b[49m\u001b[38;5;28;43mself\u001b[39;49m\u001b[38;5;241;43m.\u001b[39;49m\u001b[43mport\u001b[49m\u001b[43m)\u001b[49m\u001b[43m,\u001b[49m\n\u001b[1;32m    201\u001b[0m \u001b[43m        \u001b[49m\u001b[38;5;28;43mself\u001b[39;49m\u001b[38;5;241;43m.\u001b[39;49m\u001b[43mtimeout\u001b[49m\u001b[43m,\u001b[49m\n\u001b[1;32m    202\u001b[0m \u001b[43m        \u001b[49m\u001b[43msource_address\u001b[49m\u001b[38;5;241;43m=\u001b[39;49m\u001b[38;5;28;43mself\u001b[39;49m\u001b[38;5;241;43m.\u001b[39;49m\u001b[43msource_address\u001b[49m\u001b[43m,\u001b[49m\n\u001b[1;32m    203\u001b[0m \u001b[43m        \u001b[49m\u001b[43msocket_options\u001b[49m\u001b[38;5;241;43m=\u001b[39;49m\u001b[38;5;28;43mself\u001b[39;49m\u001b[38;5;241;43m.\u001b[39;49m\u001b[43msocket_options\u001b[49m\u001b[43m,\u001b[49m\n\u001b[1;32m    204\u001b[0m \u001b[43m    \u001b[49m\u001b[43m)\u001b[49m\n\u001b[1;32m    205\u001b[0m \u001b[38;5;28;01mexcept\u001b[39;00m socket\u001b[38;5;241m.\u001b[39mgaierror \u001b[38;5;28;01mas\u001b[39;00m e:\n",
      "File \u001b[0;32m~/workspace/fere-ai/agentic-examples/venv/lib/python3.12/site-packages/urllib3/util/connection.py:85\u001b[0m, in \u001b[0;36mcreate_connection\u001b[0;34m(address, timeout, source_address, socket_options)\u001b[0m\n\u001b[1;32m     84\u001b[0m \u001b[38;5;28;01mtry\u001b[39;00m:\n\u001b[0;32m---> 85\u001b[0m     \u001b[38;5;28;01mraise\u001b[39;00m err\n\u001b[1;32m     86\u001b[0m \u001b[38;5;28;01mfinally\u001b[39;00m:\n\u001b[1;32m     87\u001b[0m     \u001b[38;5;66;03m# Break explicitly a reference cycle\u001b[39;00m\n",
      "File \u001b[0;32m~/workspace/fere-ai/agentic-examples/venv/lib/python3.12/site-packages/urllib3/util/connection.py:73\u001b[0m, in \u001b[0;36mcreate_connection\u001b[0;34m(address, timeout, source_address, socket_options)\u001b[0m\n\u001b[1;32m     72\u001b[0m     sock\u001b[38;5;241m.\u001b[39mbind(source_address)\n\u001b[0;32m---> 73\u001b[0m \u001b[43msock\u001b[49m\u001b[38;5;241;43m.\u001b[39;49m\u001b[43mconnect\u001b[49m\u001b[43m(\u001b[49m\u001b[43msa\u001b[49m\u001b[43m)\u001b[49m\n\u001b[1;32m     74\u001b[0m \u001b[38;5;66;03m# Break explicitly a reference cycle\u001b[39;00m\n",
      "\u001b[0;31mConnectionRefusedError\u001b[0m: [Errno 111] Connection refused",
      "\nThe above exception was the direct cause of the following exception:\n",
      "\u001b[0;31mNewConnectionError\u001b[0m                        Traceback (most recent call last)",
      "File \u001b[0;32m~/workspace/fere-ai/agentic-examples/venv/lib/python3.12/site-packages/urllib3/connectionpool.py:789\u001b[0m, in \u001b[0;36mHTTPConnectionPool.urlopen\u001b[0;34m(self, method, url, body, headers, retries, redirect, assert_same_host, timeout, pool_timeout, release_conn, chunked, body_pos, preload_content, decode_content, **response_kw)\u001b[0m\n\u001b[1;32m    788\u001b[0m \u001b[38;5;66;03m# Make the request on the HTTPConnection object\u001b[39;00m\n\u001b[0;32m--> 789\u001b[0m response \u001b[38;5;241m=\u001b[39m \u001b[38;5;28;43mself\u001b[39;49m\u001b[38;5;241;43m.\u001b[39;49m\u001b[43m_make_request\u001b[49m\u001b[43m(\u001b[49m\n\u001b[1;32m    790\u001b[0m \u001b[43m    \u001b[49m\u001b[43mconn\u001b[49m\u001b[43m,\u001b[49m\n\u001b[1;32m    791\u001b[0m \u001b[43m    \u001b[49m\u001b[43mmethod\u001b[49m\u001b[43m,\u001b[49m\n\u001b[1;32m    792\u001b[0m \u001b[43m    \u001b[49m\u001b[43murl\u001b[49m\u001b[43m,\u001b[49m\n\u001b[1;32m    793\u001b[0m \u001b[43m    \u001b[49m\u001b[43mtimeout\u001b[49m\u001b[38;5;241;43m=\u001b[39;49m\u001b[43mtimeout_obj\u001b[49m\u001b[43m,\u001b[49m\n\u001b[1;32m    794\u001b[0m \u001b[43m    \u001b[49m\u001b[43mbody\u001b[49m\u001b[38;5;241;43m=\u001b[39;49m\u001b[43mbody\u001b[49m\u001b[43m,\u001b[49m\n\u001b[1;32m    795\u001b[0m \u001b[43m    \u001b[49m\u001b[43mheaders\u001b[49m\u001b[38;5;241;43m=\u001b[39;49m\u001b[43mheaders\u001b[49m\u001b[43m,\u001b[49m\n\u001b[1;32m    796\u001b[0m \u001b[43m    \u001b[49m\u001b[43mchunked\u001b[49m\u001b[38;5;241;43m=\u001b[39;49m\u001b[43mchunked\u001b[49m\u001b[43m,\u001b[49m\n\u001b[1;32m    797\u001b[0m \u001b[43m    \u001b[49m\u001b[43mretries\u001b[49m\u001b[38;5;241;43m=\u001b[39;49m\u001b[43mretries\u001b[49m\u001b[43m,\u001b[49m\n\u001b[1;32m    798\u001b[0m \u001b[43m    \u001b[49m\u001b[43mresponse_conn\u001b[49m\u001b[38;5;241;43m=\u001b[39;49m\u001b[43mresponse_conn\u001b[49m\u001b[43m,\u001b[49m\n\u001b[1;32m    799\u001b[0m \u001b[43m    \u001b[49m\u001b[43mpreload_content\u001b[49m\u001b[38;5;241;43m=\u001b[39;49m\u001b[43mpreload_content\u001b[49m\u001b[43m,\u001b[49m\n\u001b[1;32m    800\u001b[0m \u001b[43m    \u001b[49m\u001b[43mdecode_content\u001b[49m\u001b[38;5;241;43m=\u001b[39;49m\u001b[43mdecode_content\u001b[49m\u001b[43m,\u001b[49m\n\u001b[1;32m    801\u001b[0m \u001b[43m    \u001b[49m\u001b[38;5;241;43m*\u001b[39;49m\u001b[38;5;241;43m*\u001b[39;49m\u001b[43mresponse_kw\u001b[49m\u001b[43m,\u001b[49m\n\u001b[1;32m    802\u001b[0m \u001b[43m\u001b[49m\u001b[43m)\u001b[49m\n\u001b[1;32m    804\u001b[0m \u001b[38;5;66;03m# Everything went great!\u001b[39;00m\n",
      "File \u001b[0;32m~/workspace/fere-ai/agentic-examples/venv/lib/python3.12/site-packages/urllib3/connectionpool.py:495\u001b[0m, in \u001b[0;36mHTTPConnectionPool._make_request\u001b[0;34m(self, conn, method, url, body, headers, retries, timeout, chunked, response_conn, preload_content, decode_content, enforce_content_length)\u001b[0m\n\u001b[1;32m    494\u001b[0m \u001b[38;5;28;01mtry\u001b[39;00m:\n\u001b[0;32m--> 495\u001b[0m     \u001b[43mconn\u001b[49m\u001b[38;5;241;43m.\u001b[39;49m\u001b[43mrequest\u001b[49m\u001b[43m(\u001b[49m\n\u001b[1;32m    496\u001b[0m \u001b[43m        \u001b[49m\u001b[43mmethod\u001b[49m\u001b[43m,\u001b[49m\n\u001b[1;32m    497\u001b[0m \u001b[43m        \u001b[49m\u001b[43murl\u001b[49m\u001b[43m,\u001b[49m\n\u001b[1;32m    498\u001b[0m \u001b[43m        \u001b[49m\u001b[43mbody\u001b[49m\u001b[38;5;241;43m=\u001b[39;49m\u001b[43mbody\u001b[49m\u001b[43m,\u001b[49m\n\u001b[1;32m    499\u001b[0m \u001b[43m        \u001b[49m\u001b[43mheaders\u001b[49m\u001b[38;5;241;43m=\u001b[39;49m\u001b[43mheaders\u001b[49m\u001b[43m,\u001b[49m\n\u001b[1;32m    500\u001b[0m \u001b[43m        \u001b[49m\u001b[43mchunked\u001b[49m\u001b[38;5;241;43m=\u001b[39;49m\u001b[43mchunked\u001b[49m\u001b[43m,\u001b[49m\n\u001b[1;32m    501\u001b[0m \u001b[43m        \u001b[49m\u001b[43mpreload_content\u001b[49m\u001b[38;5;241;43m=\u001b[39;49m\u001b[43mpreload_content\u001b[49m\u001b[43m,\u001b[49m\n\u001b[1;32m    502\u001b[0m \u001b[43m        \u001b[49m\u001b[43mdecode_content\u001b[49m\u001b[38;5;241;43m=\u001b[39;49m\u001b[43mdecode_content\u001b[49m\u001b[43m,\u001b[49m\n\u001b[1;32m    503\u001b[0m \u001b[43m        \u001b[49m\u001b[43menforce_content_length\u001b[49m\u001b[38;5;241;43m=\u001b[39;49m\u001b[43menforce_content_length\u001b[49m\u001b[43m,\u001b[49m\n\u001b[1;32m    504\u001b[0m \u001b[43m    \u001b[49m\u001b[43m)\u001b[49m\n\u001b[1;32m    506\u001b[0m \u001b[38;5;66;03m# We are swallowing BrokenPipeError (errno.EPIPE) since the server is\u001b[39;00m\n\u001b[1;32m    507\u001b[0m \u001b[38;5;66;03m# legitimately able to close the connection after sending a valid response.\u001b[39;00m\n\u001b[1;32m    508\u001b[0m \u001b[38;5;66;03m# With this behaviour, the received response is still readable.\u001b[39;00m\n",
      "File \u001b[0;32m~/workspace/fere-ai/agentic-examples/venv/lib/python3.12/site-packages/urllib3/connection.py:441\u001b[0m, in \u001b[0;36mHTTPConnection.request\u001b[0;34m(self, method, url, body, headers, chunked, preload_content, decode_content, enforce_content_length)\u001b[0m\n\u001b[1;32m    440\u001b[0m     \u001b[38;5;28mself\u001b[39m\u001b[38;5;241m.\u001b[39mputheader(header, value)\n\u001b[0;32m--> 441\u001b[0m \u001b[38;5;28;43mself\u001b[39;49m\u001b[38;5;241;43m.\u001b[39;49m\u001b[43mendheaders\u001b[49m\u001b[43m(\u001b[49m\u001b[43m)\u001b[49m\n\u001b[1;32m    443\u001b[0m \u001b[38;5;66;03m# If we're given a body we start sending that in chunks.\u001b[39;00m\n",
      "File \u001b[0;32m/usr/lib/python3.12/http/client.py:1331\u001b[0m, in \u001b[0;36mHTTPConnection.endheaders\u001b[0;34m(self, message_body, encode_chunked)\u001b[0m\n\u001b[1;32m   1330\u001b[0m     \u001b[38;5;28;01mraise\u001b[39;00m CannotSendHeader()\n\u001b[0;32m-> 1331\u001b[0m \u001b[38;5;28;43mself\u001b[39;49m\u001b[38;5;241;43m.\u001b[39;49m\u001b[43m_send_output\u001b[49m\u001b[43m(\u001b[49m\u001b[43mmessage_body\u001b[49m\u001b[43m,\u001b[49m\u001b[43m \u001b[49m\u001b[43mencode_chunked\u001b[49m\u001b[38;5;241;43m=\u001b[39;49m\u001b[43mencode_chunked\u001b[49m\u001b[43m)\u001b[49m\n",
      "File \u001b[0;32m/usr/lib/python3.12/http/client.py:1091\u001b[0m, in \u001b[0;36mHTTPConnection._send_output\u001b[0;34m(self, message_body, encode_chunked)\u001b[0m\n\u001b[1;32m   1090\u001b[0m \u001b[38;5;28;01mdel\u001b[39;00m \u001b[38;5;28mself\u001b[39m\u001b[38;5;241m.\u001b[39m_buffer[:]\n\u001b[0;32m-> 1091\u001b[0m \u001b[38;5;28;43mself\u001b[39;49m\u001b[38;5;241;43m.\u001b[39;49m\u001b[43msend\u001b[49m\u001b[43m(\u001b[49m\u001b[43mmsg\u001b[49m\u001b[43m)\u001b[49m\n\u001b[1;32m   1093\u001b[0m \u001b[38;5;28;01mif\u001b[39;00m message_body \u001b[38;5;129;01mis\u001b[39;00m \u001b[38;5;129;01mnot\u001b[39;00m \u001b[38;5;28;01mNone\u001b[39;00m:\n\u001b[1;32m   1094\u001b[0m \n\u001b[1;32m   1095\u001b[0m     \u001b[38;5;66;03m# create a consistent interface to message_body\u001b[39;00m\n",
      "File \u001b[0;32m/usr/lib/python3.12/http/client.py:1035\u001b[0m, in \u001b[0;36mHTTPConnection.send\u001b[0;34m(self, data)\u001b[0m\n\u001b[1;32m   1034\u001b[0m \u001b[38;5;28;01mif\u001b[39;00m \u001b[38;5;28mself\u001b[39m\u001b[38;5;241m.\u001b[39mauto_open:\n\u001b[0;32m-> 1035\u001b[0m     \u001b[38;5;28;43mself\u001b[39;49m\u001b[38;5;241;43m.\u001b[39;49m\u001b[43mconnect\u001b[49m\u001b[43m(\u001b[49m\u001b[43m)\u001b[49m\n\u001b[1;32m   1036\u001b[0m \u001b[38;5;28;01melse\u001b[39;00m:\n",
      "File \u001b[0;32m~/workspace/fere-ai/agentic-examples/venv/lib/python3.12/site-packages/urllib3/connection.py:279\u001b[0m, in \u001b[0;36mHTTPConnection.connect\u001b[0;34m(self)\u001b[0m\n\u001b[1;32m    278\u001b[0m \u001b[38;5;28;01mdef\u001b[39;00m \u001b[38;5;21mconnect\u001b[39m(\u001b[38;5;28mself\u001b[39m) \u001b[38;5;241m-\u001b[39m\u001b[38;5;241m>\u001b[39m \u001b[38;5;28;01mNone\u001b[39;00m:\n\u001b[0;32m--> 279\u001b[0m     \u001b[38;5;28mself\u001b[39m\u001b[38;5;241m.\u001b[39msock \u001b[38;5;241m=\u001b[39m \u001b[38;5;28;43mself\u001b[39;49m\u001b[38;5;241;43m.\u001b[39;49m\u001b[43m_new_conn\u001b[49m\u001b[43m(\u001b[49m\u001b[43m)\u001b[49m\n\u001b[1;32m    280\u001b[0m     \u001b[38;5;28;01mif\u001b[39;00m \u001b[38;5;28mself\u001b[39m\u001b[38;5;241m.\u001b[39m_tunnel_host:\n\u001b[1;32m    281\u001b[0m         \u001b[38;5;66;03m# If we're tunneling it means we're connected to our proxy.\u001b[39;00m\n",
      "File \u001b[0;32m~/workspace/fere-ai/agentic-examples/venv/lib/python3.12/site-packages/urllib3/connection.py:214\u001b[0m, in \u001b[0;36mHTTPConnection._new_conn\u001b[0;34m(self)\u001b[0m\n\u001b[1;32m    213\u001b[0m \u001b[38;5;28;01mexcept\u001b[39;00m \u001b[38;5;167;01mOSError\u001b[39;00m \u001b[38;5;28;01mas\u001b[39;00m e:\n\u001b[0;32m--> 214\u001b[0m     \u001b[38;5;28;01mraise\u001b[39;00m NewConnectionError(\n\u001b[1;32m    215\u001b[0m         \u001b[38;5;28mself\u001b[39m, \u001b[38;5;124mf\u001b[39m\u001b[38;5;124m\"\u001b[39m\u001b[38;5;124mFailed to establish a new connection: \u001b[39m\u001b[38;5;132;01m{\u001b[39;00me\u001b[38;5;132;01m}\u001b[39;00m\u001b[38;5;124m\"\u001b[39m\n\u001b[1;32m    216\u001b[0m     ) \u001b[38;5;28;01mfrom\u001b[39;00m \u001b[38;5;21;01me\u001b[39;00m\n\u001b[1;32m    218\u001b[0m \u001b[38;5;66;03m# Audit hooks are only available in Python 3.8+\u001b[39;00m\n",
      "\u001b[0;31mNewConnectionError\u001b[0m: <urllib3.connection.HTTPConnection object at 0x74e920843e90>: Failed to establish a new connection: [Errno 111] Connection refused",
      "\nThe above exception was the direct cause of the following exception:\n",
      "\u001b[0;31mMaxRetryError\u001b[0m                             Traceback (most recent call last)",
      "File \u001b[0;32m~/workspace/fere-ai/agentic-examples/venv/lib/python3.12/site-packages/requests/adapters.py:667\u001b[0m, in \u001b[0;36mHTTPAdapter.send\u001b[0;34m(self, request, stream, timeout, verify, cert, proxies)\u001b[0m\n\u001b[1;32m    666\u001b[0m \u001b[38;5;28;01mtry\u001b[39;00m:\n\u001b[0;32m--> 667\u001b[0m     resp \u001b[38;5;241m=\u001b[39m \u001b[43mconn\u001b[49m\u001b[38;5;241;43m.\u001b[39;49m\u001b[43murlopen\u001b[49m\u001b[43m(\u001b[49m\n\u001b[1;32m    668\u001b[0m \u001b[43m        \u001b[49m\u001b[43mmethod\u001b[49m\u001b[38;5;241;43m=\u001b[39;49m\u001b[43mrequest\u001b[49m\u001b[38;5;241;43m.\u001b[39;49m\u001b[43mmethod\u001b[49m\u001b[43m,\u001b[49m\n\u001b[1;32m    669\u001b[0m \u001b[43m        \u001b[49m\u001b[43murl\u001b[49m\u001b[38;5;241;43m=\u001b[39;49m\u001b[43murl\u001b[49m\u001b[43m,\u001b[49m\n\u001b[1;32m    670\u001b[0m \u001b[43m        \u001b[49m\u001b[43mbody\u001b[49m\u001b[38;5;241;43m=\u001b[39;49m\u001b[43mrequest\u001b[49m\u001b[38;5;241;43m.\u001b[39;49m\u001b[43mbody\u001b[49m\u001b[43m,\u001b[49m\n\u001b[1;32m    671\u001b[0m \u001b[43m        \u001b[49m\u001b[43mheaders\u001b[49m\u001b[38;5;241;43m=\u001b[39;49m\u001b[43mrequest\u001b[49m\u001b[38;5;241;43m.\u001b[39;49m\u001b[43mheaders\u001b[49m\u001b[43m,\u001b[49m\n\u001b[1;32m    672\u001b[0m \u001b[43m        \u001b[49m\u001b[43mredirect\u001b[49m\u001b[38;5;241;43m=\u001b[39;49m\u001b[38;5;28;43;01mFalse\u001b[39;49;00m\u001b[43m,\u001b[49m\n\u001b[1;32m    673\u001b[0m \u001b[43m        \u001b[49m\u001b[43massert_same_host\u001b[49m\u001b[38;5;241;43m=\u001b[39;49m\u001b[38;5;28;43;01mFalse\u001b[39;49;00m\u001b[43m,\u001b[49m\n\u001b[1;32m    674\u001b[0m \u001b[43m        \u001b[49m\u001b[43mpreload_content\u001b[49m\u001b[38;5;241;43m=\u001b[39;49m\u001b[38;5;28;43;01mFalse\u001b[39;49;00m\u001b[43m,\u001b[49m\n\u001b[1;32m    675\u001b[0m \u001b[43m        \u001b[49m\u001b[43mdecode_content\u001b[49m\u001b[38;5;241;43m=\u001b[39;49m\u001b[38;5;28;43;01mFalse\u001b[39;49;00m\u001b[43m,\u001b[49m\n\u001b[1;32m    676\u001b[0m \u001b[43m        \u001b[49m\u001b[43mretries\u001b[49m\u001b[38;5;241;43m=\u001b[39;49m\u001b[38;5;28;43mself\u001b[39;49m\u001b[38;5;241;43m.\u001b[39;49m\u001b[43mmax_retries\u001b[49m\u001b[43m,\u001b[49m\n\u001b[1;32m    677\u001b[0m \u001b[43m        \u001b[49m\u001b[43mtimeout\u001b[49m\u001b[38;5;241;43m=\u001b[39;49m\u001b[43mtimeout\u001b[49m\u001b[43m,\u001b[49m\n\u001b[1;32m    678\u001b[0m \u001b[43m        \u001b[49m\u001b[43mchunked\u001b[49m\u001b[38;5;241;43m=\u001b[39;49m\u001b[43mchunked\u001b[49m\u001b[43m,\u001b[49m\n\u001b[1;32m    679\u001b[0m \u001b[43m    \u001b[49m\u001b[43m)\u001b[49m\n\u001b[1;32m    681\u001b[0m \u001b[38;5;28;01mexcept\u001b[39;00m (ProtocolError, \u001b[38;5;167;01mOSError\u001b[39;00m) \u001b[38;5;28;01mas\u001b[39;00m err:\n",
      "File \u001b[0;32m~/workspace/fere-ai/agentic-examples/venv/lib/python3.12/site-packages/urllib3/connectionpool.py:843\u001b[0m, in \u001b[0;36mHTTPConnectionPool.urlopen\u001b[0;34m(self, method, url, body, headers, retries, redirect, assert_same_host, timeout, pool_timeout, release_conn, chunked, body_pos, preload_content, decode_content, **response_kw)\u001b[0m\n\u001b[1;32m    841\u001b[0m     new_e \u001b[38;5;241m=\u001b[39m ProtocolError(\u001b[38;5;124m\"\u001b[39m\u001b[38;5;124mConnection aborted.\u001b[39m\u001b[38;5;124m\"\u001b[39m, new_e)\n\u001b[0;32m--> 843\u001b[0m retries \u001b[38;5;241m=\u001b[39m \u001b[43mretries\u001b[49m\u001b[38;5;241;43m.\u001b[39;49m\u001b[43mincrement\u001b[49m\u001b[43m(\u001b[49m\n\u001b[1;32m    844\u001b[0m \u001b[43m    \u001b[49m\u001b[43mmethod\u001b[49m\u001b[43m,\u001b[49m\u001b[43m \u001b[49m\u001b[43murl\u001b[49m\u001b[43m,\u001b[49m\u001b[43m \u001b[49m\u001b[43merror\u001b[49m\u001b[38;5;241;43m=\u001b[39;49m\u001b[43mnew_e\u001b[49m\u001b[43m,\u001b[49m\u001b[43m \u001b[49m\u001b[43m_pool\u001b[49m\u001b[38;5;241;43m=\u001b[39;49m\u001b[38;5;28;43mself\u001b[39;49m\u001b[43m,\u001b[49m\u001b[43m \u001b[49m\u001b[43m_stacktrace\u001b[49m\u001b[38;5;241;43m=\u001b[39;49m\u001b[43msys\u001b[49m\u001b[38;5;241;43m.\u001b[39;49m\u001b[43mexc_info\u001b[49m\u001b[43m(\u001b[49m\u001b[43m)\u001b[49m\u001b[43m[\u001b[49m\u001b[38;5;241;43m2\u001b[39;49m\u001b[43m]\u001b[49m\n\u001b[1;32m    845\u001b[0m \u001b[43m\u001b[49m\u001b[43m)\u001b[49m\n\u001b[1;32m    846\u001b[0m retries\u001b[38;5;241m.\u001b[39msleep()\n",
      "File \u001b[0;32m~/workspace/fere-ai/agentic-examples/venv/lib/python3.12/site-packages/urllib3/util/retry.py:519\u001b[0m, in \u001b[0;36mRetry.increment\u001b[0;34m(self, method, url, response, error, _pool, _stacktrace)\u001b[0m\n\u001b[1;32m    518\u001b[0m     reason \u001b[38;5;241m=\u001b[39m error \u001b[38;5;129;01mor\u001b[39;00m ResponseError(cause)\n\u001b[0;32m--> 519\u001b[0m     \u001b[38;5;28;01mraise\u001b[39;00m MaxRetryError(_pool, url, reason) \u001b[38;5;28;01mfrom\u001b[39;00m \u001b[38;5;21;01mreason\u001b[39;00m  \u001b[38;5;66;03m# type: ignore[arg-type]\u001b[39;00m\n\u001b[1;32m    521\u001b[0m log\u001b[38;5;241m.\u001b[39mdebug(\u001b[38;5;124m\"\u001b[39m\u001b[38;5;124mIncremented Retry for (url=\u001b[39m\u001b[38;5;124m'\u001b[39m\u001b[38;5;132;01m%s\u001b[39;00m\u001b[38;5;124m'\u001b[39m\u001b[38;5;124m): \u001b[39m\u001b[38;5;132;01m%r\u001b[39;00m\u001b[38;5;124m\"\u001b[39m, url, new_retry)\n",
      "\u001b[0;31mMaxRetryError\u001b[0m: HTTPConnectionPool(host='localhost', port=8000): Max retries exceeded with url: /ta/agent/ (Caused by NewConnectionError('<urllib3.connection.HTTPConnection object at 0x74e920843e90>: Failed to establish a new connection: [Errno 111] Connection refused'))",
      "\nDuring handling of the above exception, another exception occurred:\n",
      "\u001b[0;31mConnectionError\u001b[0m                           Traceback (most recent call last)",
      "Cell \u001b[0;32mIn[10], line 3\u001b[0m\n\u001b[1;32m      1\u001b[0m disciple \u001b[38;5;241m=\u001b[39m DiscipleClient(fere_api_key)\n\u001b[0;32m----> 3\u001b[0m agent \u001b[38;5;241m=\u001b[39m \u001b[43mdisciple\u001b[49m\u001b[38;5;241;43m.\u001b[39;49m\u001b[43mcreate_agent\u001b[49m\u001b[43m(\u001b[49m\u001b[43mfere_user_id\u001b[49m\u001b[43m,\u001b[49m\u001b[43m \u001b[49m\u001b[43mname\u001b[49m\u001b[43m,\u001b[49m\u001b[43mdescription\u001b[49m\u001b[43m,\u001b[49m\u001b[43mpersona\u001b[49m\u001b[43m,\u001b[49m\u001b[43mdata_source\u001b[49m\u001b[43m,\u001b[49m\n\u001b[1;32m      4\u001b[0m \u001b[43m             \u001b[49m\u001b[43mdecision_prompt_pool\u001b[49m\u001b[43m,\u001b[49m\u001b[43m \u001b[49m\u001b[43mdecision_prompt_portfolio\u001b[49m\u001b[43m,\u001b[49m\u001b[43m \u001b[49m\u001b[43mtwitter_username\u001b[49m\u001b[43m,\u001b[49m\n\u001b[1;32m      5\u001b[0m \u001b[43m             \u001b[49m\u001b[43mfc_username\u001b[49m\u001b[43m,\u001b[49m\u001b[43m \u001b[49m\u001b[43msimulation\u001b[49m\u001b[43m,\u001b[49m\u001b[43m \u001b[49m\u001b[43msimulation_initial_usd\u001b[49m\u001b[43m,\u001b[49m\n\u001b[1;32m      6\u001b[0m \u001b[43m             \u001b[49m\u001b[43mmax_investment_per_session\u001b[49m\u001b[43m,\u001b[49m\u001b[43m \u001b[49m\u001b[43mstop_loss\u001b[49m\u001b[43m,\u001b[49m\u001b[43m \u001b[49m\u001b[43mtrailing_stop_loss\u001b[49m\u001b[43m,\u001b[49m\n\u001b[1;32m      7\u001b[0m \u001b[43m             \u001b[49m\u001b[43mtake_profit\u001b[49m\u001b[43m)\u001b[49m\n\u001b[1;32m      9\u001b[0m pprint(agent)\n",
      "Cell \u001b[0;32mIn[9], line 61\u001b[0m, in \u001b[0;36mDiscipleClient.create_agent\u001b[0;34m(self, fere_user_id, name, description, persona, data_source, decision_prompt_pool, decision_prompt_portfolio, twitter_username, fc_username, simulation, simulation_initial_usd, max_investment_per_session, stop_loss, trailing_stop_loss, take_profit)\u001b[0m\n\u001b[1;32m     42\u001b[0m url \u001b[38;5;241m=\u001b[39m \u001b[38;5;28mself\u001b[39m\u001b[38;5;241m.\u001b[39mbase_url \u001b[38;5;241m+\u001b[39m \u001b[38;5;124m\"\u001b[39m\u001b[38;5;124magent/\u001b[39m\u001b[38;5;124m\"\u001b[39m\n\u001b[1;32m     43\u001b[0m payload \u001b[38;5;241m=\u001b[39m json\u001b[38;5;241m.\u001b[39mdumps({\n\u001b[1;32m     44\u001b[0m     \u001b[38;5;124m\"\u001b[39m\u001b[38;5;124muser_id\u001b[39m\u001b[38;5;124m\"\u001b[39m: fere_user_id,\n\u001b[1;32m     45\u001b[0m     \u001b[38;5;124m\"\u001b[39m\u001b[38;5;124mname\u001b[39m\u001b[38;5;124m\"\u001b[39m: name,\n\u001b[0;32m   (...)\u001b[0m\n\u001b[1;32m     58\u001b[0m     \u001b[38;5;124m\"\u001b[39m\u001b[38;5;124mtake_profit\u001b[39m\u001b[38;5;124m\"\u001b[39m: take_profit\n\u001b[1;32m     59\u001b[0m })\n\u001b[0;32m---> 61\u001b[0m response \u001b[38;5;241m=\u001b[39m \u001b[43mrequests\u001b[49m\u001b[38;5;241;43m.\u001b[39;49m\u001b[43mput\u001b[49m\u001b[43m(\u001b[49m\u001b[43murl\u001b[49m\u001b[43m,\u001b[49m\u001b[43m \u001b[49m\u001b[43mheaders\u001b[49m\u001b[38;5;241;43m=\u001b[39;49m\u001b[38;5;28;43mself\u001b[39;49m\u001b[38;5;241;43m.\u001b[39;49m\u001b[43mapi_headers\u001b[49m\u001b[43m,\u001b[49m\u001b[43m \u001b[49m\u001b[43mdata\u001b[49m\u001b[38;5;241;43m=\u001b[39;49m\u001b[43mpayload\u001b[49m\u001b[43m)\u001b[49m\n\u001b[1;32m     63\u001b[0m \u001b[38;5;28;01mif\u001b[39;00m response\u001b[38;5;241m.\u001b[39mstatus_code \u001b[38;5;241m==\u001b[39m \u001b[38;5;241m200\u001b[39m:\n\u001b[1;32m     64\u001b[0m     data \u001b[38;5;241m=\u001b[39m response\u001b[38;5;241m.\u001b[39mjson()\n",
      "File \u001b[0;32m~/workspace/fere-ai/agentic-examples/venv/lib/python3.12/site-packages/requests/api.py:130\u001b[0m, in \u001b[0;36mput\u001b[0;34m(url, data, **kwargs)\u001b[0m\n\u001b[1;32m    118\u001b[0m \u001b[38;5;28;01mdef\u001b[39;00m \u001b[38;5;21mput\u001b[39m(url, data\u001b[38;5;241m=\u001b[39m\u001b[38;5;28;01mNone\u001b[39;00m, \u001b[38;5;241m*\u001b[39m\u001b[38;5;241m*\u001b[39mkwargs):\n\u001b[1;32m    119\u001b[0m \u001b[38;5;250m    \u001b[39m\u001b[38;5;124mr\u001b[39m\u001b[38;5;124;03m\"\"\"Sends a PUT request.\u001b[39;00m\n\u001b[1;32m    120\u001b[0m \n\u001b[1;32m    121\u001b[0m \u001b[38;5;124;03m    :param url: URL for the new :class:`Request` object.\u001b[39;00m\n\u001b[0;32m   (...)\u001b[0m\n\u001b[1;32m    127\u001b[0m \u001b[38;5;124;03m    :rtype: requests.Response\u001b[39;00m\n\u001b[1;32m    128\u001b[0m \u001b[38;5;124;03m    \"\"\"\u001b[39;00m\n\u001b[0;32m--> 130\u001b[0m     \u001b[38;5;28;01mreturn\u001b[39;00m \u001b[43mrequest\u001b[49m\u001b[43m(\u001b[49m\u001b[38;5;124;43m\"\u001b[39;49m\u001b[38;5;124;43mput\u001b[39;49m\u001b[38;5;124;43m\"\u001b[39;49m\u001b[43m,\u001b[49m\u001b[43m \u001b[49m\u001b[43murl\u001b[49m\u001b[43m,\u001b[49m\u001b[43m \u001b[49m\u001b[43mdata\u001b[49m\u001b[38;5;241;43m=\u001b[39;49m\u001b[43mdata\u001b[49m\u001b[43m,\u001b[49m\u001b[43m \u001b[49m\u001b[38;5;241;43m*\u001b[39;49m\u001b[38;5;241;43m*\u001b[39;49m\u001b[43mkwargs\u001b[49m\u001b[43m)\u001b[49m\n",
      "File \u001b[0;32m~/workspace/fere-ai/agentic-examples/venv/lib/python3.12/site-packages/requests/api.py:59\u001b[0m, in \u001b[0;36mrequest\u001b[0;34m(method, url, **kwargs)\u001b[0m\n\u001b[1;32m     55\u001b[0m \u001b[38;5;66;03m# By using the 'with' statement we are sure the session is closed, thus we\u001b[39;00m\n\u001b[1;32m     56\u001b[0m \u001b[38;5;66;03m# avoid leaving sockets open which can trigger a ResourceWarning in some\u001b[39;00m\n\u001b[1;32m     57\u001b[0m \u001b[38;5;66;03m# cases, and look like a memory leak in others.\u001b[39;00m\n\u001b[1;32m     58\u001b[0m \u001b[38;5;28;01mwith\u001b[39;00m sessions\u001b[38;5;241m.\u001b[39mSession() \u001b[38;5;28;01mas\u001b[39;00m session:\n\u001b[0;32m---> 59\u001b[0m     \u001b[38;5;28;01mreturn\u001b[39;00m \u001b[43msession\u001b[49m\u001b[38;5;241;43m.\u001b[39;49m\u001b[43mrequest\u001b[49m\u001b[43m(\u001b[49m\u001b[43mmethod\u001b[49m\u001b[38;5;241;43m=\u001b[39;49m\u001b[43mmethod\u001b[49m\u001b[43m,\u001b[49m\u001b[43m \u001b[49m\u001b[43murl\u001b[49m\u001b[38;5;241;43m=\u001b[39;49m\u001b[43murl\u001b[49m\u001b[43m,\u001b[49m\u001b[43m \u001b[49m\u001b[38;5;241;43m*\u001b[39;49m\u001b[38;5;241;43m*\u001b[39;49m\u001b[43mkwargs\u001b[49m\u001b[43m)\u001b[49m\n",
      "File \u001b[0;32m~/workspace/fere-ai/agentic-examples/venv/lib/python3.12/site-packages/requests/sessions.py:589\u001b[0m, in \u001b[0;36mSession.request\u001b[0;34m(self, method, url, params, data, headers, cookies, files, auth, timeout, allow_redirects, proxies, hooks, stream, verify, cert, json)\u001b[0m\n\u001b[1;32m    584\u001b[0m send_kwargs \u001b[38;5;241m=\u001b[39m {\n\u001b[1;32m    585\u001b[0m     \u001b[38;5;124m\"\u001b[39m\u001b[38;5;124mtimeout\u001b[39m\u001b[38;5;124m\"\u001b[39m: timeout,\n\u001b[1;32m    586\u001b[0m     \u001b[38;5;124m\"\u001b[39m\u001b[38;5;124mallow_redirects\u001b[39m\u001b[38;5;124m\"\u001b[39m: allow_redirects,\n\u001b[1;32m    587\u001b[0m }\n\u001b[1;32m    588\u001b[0m send_kwargs\u001b[38;5;241m.\u001b[39mupdate(settings)\n\u001b[0;32m--> 589\u001b[0m resp \u001b[38;5;241m=\u001b[39m \u001b[38;5;28;43mself\u001b[39;49m\u001b[38;5;241;43m.\u001b[39;49m\u001b[43msend\u001b[49m\u001b[43m(\u001b[49m\u001b[43mprep\u001b[49m\u001b[43m,\u001b[49m\u001b[43m \u001b[49m\u001b[38;5;241;43m*\u001b[39;49m\u001b[38;5;241;43m*\u001b[39;49m\u001b[43msend_kwargs\u001b[49m\u001b[43m)\u001b[49m\n\u001b[1;32m    591\u001b[0m \u001b[38;5;28;01mreturn\u001b[39;00m resp\n",
      "File \u001b[0;32m~/workspace/fere-ai/agentic-examples/venv/lib/python3.12/site-packages/requests/sessions.py:703\u001b[0m, in \u001b[0;36mSession.send\u001b[0;34m(self, request, **kwargs)\u001b[0m\n\u001b[1;32m    700\u001b[0m start \u001b[38;5;241m=\u001b[39m preferred_clock()\n\u001b[1;32m    702\u001b[0m \u001b[38;5;66;03m# Send the request\u001b[39;00m\n\u001b[0;32m--> 703\u001b[0m r \u001b[38;5;241m=\u001b[39m \u001b[43madapter\u001b[49m\u001b[38;5;241;43m.\u001b[39;49m\u001b[43msend\u001b[49m\u001b[43m(\u001b[49m\u001b[43mrequest\u001b[49m\u001b[43m,\u001b[49m\u001b[43m \u001b[49m\u001b[38;5;241;43m*\u001b[39;49m\u001b[38;5;241;43m*\u001b[39;49m\u001b[43mkwargs\u001b[49m\u001b[43m)\u001b[49m\n\u001b[1;32m    705\u001b[0m \u001b[38;5;66;03m# Total elapsed time of the request (approximately)\u001b[39;00m\n\u001b[1;32m    706\u001b[0m elapsed \u001b[38;5;241m=\u001b[39m preferred_clock() \u001b[38;5;241m-\u001b[39m start\n",
      "File \u001b[0;32m~/workspace/fere-ai/agentic-examples/venv/lib/python3.12/site-packages/requests/adapters.py:700\u001b[0m, in \u001b[0;36mHTTPAdapter.send\u001b[0;34m(self, request, stream, timeout, verify, cert, proxies)\u001b[0m\n\u001b[1;32m    696\u001b[0m     \u001b[38;5;28;01mif\u001b[39;00m \u001b[38;5;28misinstance\u001b[39m(e\u001b[38;5;241m.\u001b[39mreason, _SSLError):\n\u001b[1;32m    697\u001b[0m         \u001b[38;5;66;03m# This branch is for urllib3 v1.22 and later.\u001b[39;00m\n\u001b[1;32m    698\u001b[0m         \u001b[38;5;28;01mraise\u001b[39;00m SSLError(e, request\u001b[38;5;241m=\u001b[39mrequest)\n\u001b[0;32m--> 700\u001b[0m     \u001b[38;5;28;01mraise\u001b[39;00m \u001b[38;5;167;01mConnectionError\u001b[39;00m(e, request\u001b[38;5;241m=\u001b[39mrequest)\n\u001b[1;32m    702\u001b[0m \u001b[38;5;28;01mexcept\u001b[39;00m ClosedPoolError \u001b[38;5;28;01mas\u001b[39;00m e:\n\u001b[1;32m    703\u001b[0m     \u001b[38;5;28;01mraise\u001b[39;00m \u001b[38;5;167;01mConnectionError\u001b[39;00m(e, request\u001b[38;5;241m=\u001b[39mrequest)\n",
      "\u001b[0;31mConnectionError\u001b[0m: HTTPConnectionPool(host='localhost', port=8000): Max retries exceeded with url: /ta/agent/ (Caused by NewConnectionError('<urllib3.connection.HTTPConnection object at 0x74e920843e90>: Failed to establish a new connection: [Errno 111] Connection refused'))"
     ]
    }
   ],
   "source": [
    "disciple = DiscipleClient(fere_api_key)\n",
    "\n",
    "agent = disciple.create_agent(fere_user_id, name,description,persona,data_source,\n",
    "             decision_prompt_pool, decision_prompt_portfolio, twitter_username,\n",
    "             fc_username, simulation, simulation_initial_usd,\n",
    "             max_investment_per_session, stop_loss, trailing_stop_loss,\n",
    "             take_profit)\n",
    "\n",
    "pprint(agent)"
   ]
  },
  {
   "cell_type": "markdown",
   "metadata": {
    "id": "LSqeV-ORmaql"
   },
   "source": [
    "## 2. Get Disciple Agents from a given User"
   ]
  },
  {
   "cell_type": "code",
   "execution_count": 64,
   "metadata": {
    "colab": {
     "base_uri": "https://localhost:8080/"
    },
    "id": "qkRu61Ohmra6",
    "outputId": "ff4bc13b-61b4-43d5-a13b-f3fbf1582715"
   },
   "outputs": [
    {
     "name": "stdout",
     "output_type": "stream",
     "text": [
      "Disciples Created: 4\n",
      "\n",
      "Name: Disciple 420\n",
      "ID: 22f1ce39-8520-4af0-bdbe-fdb8b7d21bf0\n",
      "\n",
      "Name: Disciple 420\n",
      "ID: 403a7be0-ab41-4532-a41e-a4eaed8b93b3\n",
      "\n",
      "Name: Disciple 420\n",
      "ID: fa0808bc-41b7-427d-b790-d84bfbec94b0\n",
      "\n",
      "Name: Disciple 421\n",
      "ID: 14def492-9fbd-4cad-a331-dcaaca5d8f01\n",
      "\n"
     ]
    }
   ],
   "source": [
    "def fetch_disciples(fere_user_id):\n",
    "    \"\"\"\n",
    "    Fetches a list of disciples for the given user ID.\n",
    "\n",
    "    Args:\n",
    "        fere_user_id (str): The user ID for which to fetch disciples.\n",
    "        api_headers (dict): Headers for the API request.\n",
    "\n",
    "    Returns:\n",
    "        list: A list of disciples if the request succeeds, or an empty list otherwise.\n",
    "    \"\"\"\n",
    "    url = f\"https://api.fereai.xyz/ta/agent/{fere_user_id}/\"\n",
    "    payload = {}\n",
    "\n",
    "    response = requests.request(\"GET\", url, headers=api_headers, data=payload)\n",
    "\n",
    "    if response.status_code == 200:\n",
    "        data = response.json()\n",
    "        print(f\"Disciples Created: {len(data)}\\n\")\n",
    "        for disciple in data:\n",
    "            print(f\"Name: {disciple['name']}\")\n",
    "            print(f\"ID: {disciple['id']}\\n\")\n",
    "        return data\n",
    "    else:\n",
    "        print(f\"Failed to fetch disciples: {response.text}\")\n",
    "        return []\n",
    "\n",
    "fetch_disciples(fere_user_id)"
   ]
  },
  {
   "cell_type": "markdown",
   "metadata": {
    "id": "MkgUenoSnnpY"
   },
   "source": [
    "## 3. Get portfolio"
   ]
  },
  {
   "cell_type": "code",
   "execution_count": 74,
   "metadata": {
    "id": "HKlwiMX8nsOE"
   },
   "outputs": [],
   "source": [
    "disciple_agent_id = \"14def492-9fbd-4cad-a331-dcaaca5d8f01\" # @param {type: \"string\"}"
   ]
  },
  {
   "cell_type": "code",
   "execution_count": 75,
   "metadata": {
    "colab": {
     "base_uri": "https://localhost:8080/"
    },
    "id": "dZGBmtvlnl8D",
    "outputId": "c4a51a68-5b86-46ca-f03f-cdd5a2398df2"
   },
   "outputs": [
    {
     "data": {
      "text/plain": [
       "{'id': 'baab2eec-3a05-49a1-bc7e-b994f9615347',\n",
       " 'agent_id': '14def492-9fbd-4cad-a331-dcaaca5d8f01',\n",
       " 'start_time': '2024-11-26T09:34:15.712055Z',\n",
       " 'start_usd': 1000.0,\n",
       " 'start_native': 4.24808836023789,\n",
       " 'curr_realised_usd': 980.073549705943,\n",
       " 'curr_realised_native': 4.16298788334761,\n",
       " 'curr_unrealised_usd': 19.465008787523,\n",
       " 'curr_unrealised_native': 0.0841309501410071,\n",
       " 'dry_run': True}"
      ]
     },
     "execution_count": 75,
     "metadata": {},
     "output_type": "execute_result"
    }
   ],
   "source": [
    "def get_portfolio(disciple_agent_id):\n",
    "  url = f\"https://api.fereai.xyz/ta/agent/{disciple_agent_id}/portfolio/\"\n",
    "\n",
    "  payload = {}\n",
    "  response = requests.request(\"GET\", url, headers=api_headers, data=payload)\n",
    "\n",
    "  if response.status_code == 200:\n",
    "    data = response.json()\n",
    "    return data\n",
    "  else:\n",
    "    print(response.text)\n",
    "\n",
    "\n",
    "get_portfolio(disciple_agent_id)"
   ]
  },
  {
   "cell_type": "markdown",
   "metadata": {
    "id": "s0lMGAtwoUMq"
   },
   "source": [
    "## 4. Get Holdings"
   ]
  },
  {
   "cell_type": "code",
   "execution_count": 85,
   "metadata": {
    "colab": {
     "base_uri": "https://localhost:8080/"
    },
    "id": "Br5aHudoobyE",
    "outputId": "4362d6f2-ae93-49ad-e4ca-71ac983aeb02"
   },
   "outputs": [
    {
     "name": "stdout",
     "output_type": "stream",
     "text": [
      "Total holdings: 1\n",
      "[{'agent_id': '14def492-9fbd-4cad-a331-dcaaca5d8f01',\n",
      "  'base_address': 'GqmEdRD3zGUZdYPeuDeXxCc8Cj1DBmGSYK97TCwSpump',\n",
      "  'bought_at': '2024-11-26T10:05:45.052557Z',\n",
      "  'buying_price_native': 4.30841681980038e-05,\n",
      "  'buying_price_usd': 0.0100882458880364,\n",
      "  'curr_price_native': 4.17057630968669e-05,\n",
      "  'curr_price_usd': 0.0096884,\n",
      "  'decimals': 6,\n",
      "  'dry_run': True,\n",
      "  'id': '85515f1b-6269-4dd6-a2e1-d6ee7d668003',\n",
      "  'is_active': True,\n",
      "  'pool_address': 'GvDBhjocyfDZuGWqkm4ZU89W2YXaVLadWDUXeJHr9h8s',\n",
      "  'pool_name': 'e/acc / SOL',\n",
      "  'profit_abs_native': -0.00272264584326314,\n",
      "  'profit_abs_usd': -0.789781425003625,\n",
      "  'profit_per_native': -3.19933088832562,\n",
      "  'profit_per_usd': -3.96348277464743,\n",
      "  'token_name': 'Effective accelerationism',\n",
      "  'tokens_bought': 1975.214573}]\n"
     ]
    }
   ],
   "source": [
    "def get_holdings(disciple_agent_id):\n",
    "  url = f\"https://api.fereai.xyz/ta/agent/{disciple_agent_id}/holdings/\"\n",
    "\n",
    "  payload = {}\n",
    "\n",
    "  response = requests.request(\"GET\", url, headers=api_headers, data=payload)\n",
    "  if response.status_code == 200:\n",
    "    data = response.json()\n",
    "    return data\n",
    "  else:\n",
    "    print(response.text)\n",
    "\n",
    "holdings = get_holdings(disciple_agent_id)\n",
    "\n",
    "print(f\"Total holdings: {len(holdings)}\")\n",
    "\n",
    "pprint(holdings)"
   ]
  },
  {
   "cell_type": "markdown",
   "metadata": {
    "id": "NPTzHO0Xol1i"
   },
   "source": [
    "## 5. Get Trades\n"
   ]
  },
  {
   "cell_type": "code",
   "execution_count": 77,
   "metadata": {
    "colab": {
     "base_uri": "https://localhost:8080/"
    },
    "id": "lcmlnWqxopqW",
    "outputId": "422e8370-6a64-4efc-b29e-cd6a46573907"
   },
   "outputs": [
    {
     "data": {
      "text/plain": [
       "[{'created_at': '2024-11-26T10:05:43Z',\n",
       "  'agent_id': '14def492-9fbd-4cad-a331-dcaaca5d8f01',\n",
       "  'base_address': 'GqmEdRD3zGUZdYPeuDeXxCc8Cj1DBmGSYK97TCwSpump',\n",
       "  'pool_name': 'e/acc / SOL',\n",
       "  'decision': 1,\n",
       "  'price_usd': 0.0100882458880364,\n",
       "  'price_sol': 4.30841681980038e-05,\n",
       "  'in_amount': 84961767.0,\n",
       "  'out_amount': 1975214573.0,\n",
       "  'gas_fee': 127000.0,\n",
       "  'jito_fee': 32101.0,\n",
       "  'other_amount_threshold': 1965338501.0,\n",
       "  'reason': 'The pool has shown a consistent upward trend in the past 24 hours, with a price change percentage of 8.69% in the last hour and 16.58% in the last 6 hours. The volume has also been increasing, with a volume of 75920.31347229001 in the last hour and 1251851.08394443 in the last 24 hours. The OHLCV data also shows a bullish trend, with the price closing above the 12-hour moving average. Therefore, it is recommended to buy this pool.',\n",
       "  'future_action': \"Monitor the pool's performance and adjust the position size based on the momentum. If the price continues to rise, consider increasing the position size. If the price drops, consider reducing the position size or exiting the trade.\",\n",
       "  'profit_sol': None,\n",
       "  'profit_usd': None,\n",
       "  'profit_percentage': None,\n",
       "  'txn': 'https://solscan.io/tx/62RWhUzNEs26VfGnwK7BKJEvVaSPDknPP25wy7EAgxvE1jRs7zdFHwVZbFdmpw4Ynn28mPiPR56u5kgqq4du5yzS',\n",
       "  'dry_run': True}]"
      ]
     },
     "execution_count": 77,
     "metadata": {},
     "output_type": "execute_result"
    }
   ],
   "source": [
    "def get_trades(disciple_agent_id):\n",
    "  url = f\"https://api.fereai.xyz/ta/agent/{disciple_agent_id}/trades/\"\n",
    "\n",
    "  payload = {}\n",
    "\n",
    "  response = requests.request(\"GET\", url, headers=api_headers, data=payload)\n",
    "\n",
    "  if response.status_code == 200:\n",
    "    return response.json()\n",
    "  else:\n",
    "    pprint(response.text)\n",
    "\n",
    "get_trades(disciple_agent_id)"
   ]
  },
  {
   "cell_type": "markdown",
   "metadata": {
    "id": "jeqvlxYLo3fP"
   },
   "source": [
    "## 6. Get Optimal gains"
   ]
  },
  {
   "cell_type": "code",
   "execution_count": 79,
   "metadata": {
    "colab": {
     "base_uri": "https://localhost:8080/"
    },
    "id": "sbUSHXGeo-mc",
    "outputId": "bb04ddbf-a11b-4a97-ee49-7bccf34ebbec"
   },
   "outputs": [
    {
     "data": {
      "text/plain": [
       "[{'pool_address': 'GvDBhjocyfDZuGWqkm4ZU89W2YXaVLadWDUXeJHr9h8s',\n",
       "  'base_address': 'GqmEdRD3zGUZdYPeuDeXxCc8Cj1DBmGSYK97TCwSpump',\n",
       "  'token_name': 'e/acc / SOL',\n",
       "  'profile_pic': 'https://coin-images.coingecko.com/coins/images/50905/large/GqmEdRD3zGUZdYPeuDeXxCc8Cj1DBmGSYK97TCwSpump.webp?1729520765',\n",
       "  'peaked_at': '2024-11-26T10:05:45.214017+00:00',\n",
       "  'notice_price_native': 4.30841681980038e-05,\n",
       "  'price_native': 4.30841681980038e-05,\n",
       "  'profit_per_native': 0.0,\n",
       "  'agent_id': '14def492-9fbd-4cad-a331-dcaaca5d8f01',\n",
       "  'id': 'fd52730b-89ad-438c-ba99-7c9d422ddd6c',\n",
       "  'pool_name': 'Effective accelerationism',\n",
       "  'symbol': 'e/acc',\n",
       "  'noticed_at': '2024-11-26T10:05:45.214017+00:00',\n",
       "  'notice_price_usd': 0.0100882458880364,\n",
       "  'price_usd': 0.0100882458880364,\n",
       "  'profit_per_usd': 0.0,\n",
       "  'dry_run': True}]"
      ]
     },
     "execution_count": 79,
     "metadata": {},
     "output_type": "execute_result"
    }
   ],
   "source": [
    "def get_optimal_gains(disciple_agent_id):\n",
    "  url = f\"https://api.fereai.xyz/ta/agent/{disciple_agent_id}/buy/\"\n",
    "\n",
    "  payload = {}\n",
    "  response = requests.request(\"GET\", url, headers=api_headers, data=payload)\n",
    "  if response.status_code == 200:\n",
    "    return response.json()\n",
    "  else:\n",
    "    print(response.txt)\n",
    "\n",
    "get_optimal_gains(disciple_agent_id)"
   ]
  },
  {
   "cell_type": "markdown",
   "metadata": {
    "id": "mkJrR-5MqfZ_"
   },
   "source": [
    "## 7. Sell a holding manually"
   ]
  },
  {
   "cell_type": "code",
   "execution_count": null,
   "metadata": {
    "id": "b9pOhF-iqb5P"
   },
   "outputs": [],
   "source": [
    "holding_id = \"\" # @param {type: \"string\"}\n",
    "quantity = \"all\" # @param {type: \"string\"}"
   ]
  },
  {
   "cell_type": "markdown",
   "metadata": {
    "id": "p91xUzeXrA_d"
   },
   "source": [
    "A sell is executed as a background task. Upon calling the sell API, it returns a task ID. This task ID will be used to check the task status."
   ]
  },
  {
   "cell_type": "code",
   "execution_count": null,
   "metadata": {
    "id": "o8GpdopQqkIV"
   },
   "outputs": [],
   "source": [
    "\n",
    "def sell_holding(disciple_agent_id, holding_id, quantity):\n",
    "\n",
    "  url = f\"https://api.fereai.xyz/ta/agent/{disciple_agent_id}/sell/f{holding_id}/f{quantity}/\"\n",
    "  payload = {}\n",
    "\n",
    "  response = requests.request(\"POST\", url, headers=api_headers, data=payload)\n",
    "\n",
    "  if response.status_code == 200:\n",
    "    return response.json()\n",
    "  else:\n",
    "    print(response.text)\n",
    "\n",
    "task = sell_holding(disciple_agent_id, holding_id, quantity)\n",
    "\n",
    "pprint(task)"
   ]
  },
  {
   "cell_type": "markdown",
   "metadata": {
    "id": "1CEquaLArJjX"
   },
   "source": [
    "Now once we have the task ID, we can check the status of the task."
   ]
  },
  {
   "cell_type": "code",
   "execution_count": null,
   "metadata": {
    "id": "wYdgZpiMrJIi"
   },
   "outputs": [],
   "source": [
    "task_id = \"all\" # @param {type: \"string\"}\n",
    "\n",
    "url = f\"https://api.fereai.xyz/ta/task/status/{task_id}/\"\n",
    "\n",
    "payload = {}\n",
    "\n",
    "response = requests.request(\"GET\", url, headers=api_headers, data=payload)\n",
    "\n",
    "print(response.json())"
   ]
  },
  {
   "cell_type": "markdown",
   "metadata": {
    "id": "4aS8My10rakZ"
   },
   "source": [
    "Depending on the status, show the updates to user."
   ]
  },
  {
   "cell_type": "markdown",
   "metadata": {
    "id": "q8rUOFQkrkcN"
   },
   "source": [
    "# Disciple Lifecycle APIs"
   ]
  },
  {
   "cell_type": "markdown",
   "metadata": {
    "id": "I1iJW6RTr3zR"
   },
   "source": [
    "## 8. Update a Disciple"
   ]
  },
  {
   "cell_type": "code",
   "execution_count": null,
   "metadata": {
    "id": "rzMDCJE7r8Uk"
   },
   "outputs": [],
   "source": [
    "disciple_id = \"\" # @param {type: \"string\"}\n",
    "name = \"Disciple 420\" # @param {type: \"string\"}\n",
    "description = \"A loyal and trusted disciple of MONK\" # @param {type: \"string\"}\n",
    "persona = \"A loyal and trusted disciple of MONK\" # @param {type: \"string\"}\n",
    "data_source = \"trending\" # @param [\"trending\", \"latest\"]\n",
    "decision_prompt_pool = \"You are a pro memecoin trader on Solana. Use your understanding of memcoins, market psychology and on-chain metrics to identify coins with high growth potentials.  MISSION: Make an informed and calculated judgement on weather to buy, hold, sell or pass on a memecoin.  GOAL: Your GOAL is to generate consistent profits over a **longer-term period (3 - 7 days)** by blending **momentum trading, volatility management, and adaptive feedback loops**.  STRATEGY: ### 1. **Initial Assessment for Entry**    - **Assess Pool Age:**      - If the pool was created recently (within 1-2 days), it suggests early-stage momentum. Prioritize memecoins that show strong early trading interest, as indicated by high **volume in the first 24 hours**.     - **Check FDV vs. Market Cap Ratio:**      - **FDV close to Market Cap:** Indicates potential bullishness with less risk of dilution. This supports entering a longer-term trade.      - **FDV significantly higher than Market Cap:** Indicates risk of dilution; proceed cautiously with tighter risk management.     - **Review Price Change Trends (up to 24hr):**      - Enter trades where there is a **consistent upward price change** across intervals (5m, 1hr, 6hr, 24hr), supported by rising volume.      - For a **bullish entry**, ensure positive price change across multiple intervals, particularly in 1hr, 6hr, and 24hr.  ### 2. **Incorporate Volatility Analysis**    - **Use ATR to Define Entry and Exit Ranges:**      - Calculate the **Average True Range (ATR)** to set entry and stop-loss levels. Wider ATR suggests higher potential rewards, but also increased risk.      - Set initial stop-loss levels at **1.5-2x the ATR** to avoid premature exits due to regular volatility.     - **Volatility Breakout Entry:**      - Enter long positions when the price breaks above recent volatility bands (e.g., Bollinger Bands), accompanied by strong volume over 6hr intervals.      - Avoid entering trades during extreme volatility spikes unless there is consistent follow-through in volume and price over longer intervals (6hr or more).  ### 3. **Adaptive Position Sizing**    - **Start with Smaller Initial Positions:**      - Given the high volatility, begin with a smaller position size to minimize risk. As the trend confirms (positive price and volume over 12hr), gradually increase the position size.     - **Adjust Position Based on Recent Trade Success:**      - If recent trades have been profitable, **increase position size by 10-20%** to capitalize on momentum.      - If recent trades have had high losses, **reduce position size** and tighten stops to avoid further losses.  ### 4. **Feedback Loop with Last Trades**    - **Analyze Trade Patterns:**      - Review the **last 5 trades** to identify common triggers for success or failure (e.g., rapid volume surges, resistance breakouts, or social media-driven momentum).      - If the **last profitable trades** had similar conditions (e.g., positive price change after volume spikes), replicate those entry conditions for prolonged trades.     - **Use Historical Exit Points for Guidance:**      - If past trades reached a **profit target of 10-20%** within 12-24 hours, set similar targets and be ready to adjust based on current momentum.      - If the last loss resulted from holding too long despite declining volume, be prepared to exit sooner in similar conditions.  ### 5. **Mid-Trade Management for 12-36 Hours**    - **Reassess at 12hr and 24hr Intervals:**      - Every 12 hours, evaluate whether the momentum is sustained: check volume, price change, and transaction patterns. If the volume remains strong and price trends are positive, maintain the position.     - **Trailing Stop-Loss:**      - Implement a **trailing stop-loss** based on the 6hr ATR to lock in profits as the price moves up. This allows you to capture gains while keeping the potential for further upside.      - Adjust the trailing stop if momentum remains strong after 24 hours, allowing for an extended hold.  ### 6. **Longer-Term Hold Strategy (Up to 7 Days)**    - **Monitor 24hr and 6hr Volume Trends:**      - If 24hr volume continues to rise, hold the position for up to 3 days to maximize gains.      - For holds longer than 3 days, ensure consistent positive price change in the 24hr interval and sustained volume increases.     - **Identify Extended Trends or Reversals:**      - Use **12hr and 24hr moving averages (MA)** as benchmarks:        - If the price consistently stays above the 12hr MA, it indicates sustained bullish momentum—hold longer.        - If the price drops below the 12hr MA, consider reducing position size or exiting partially.  ### 7. **Exit Criteria for 3-7 Days**    - **Profit Targets:**      - Set multiple profit targets (e.g., at +10%, +20%, and +30%).      - Use the **last 5 successful trades** to determine the most effective profit levels.     - **Volatility and Volume Drop:**      - Exit if there’s a significant **drop in 6hr or 24hr volume**, as it signals a decline in momentum.      - Exit earlier if there’s a sudden spike in **sell transactions** over 6hr intervals, indicating a potential trend reversal.    - **OHLCV Analysis:**     - If the **Open-High-Low-Close-Volume (OHLCV)** pattern shows consistent lower highs and lower lows over 24hr intervals, consider exiting to avoid further losses.     - If the OHLCV pattern remains bullish with higher highs and higher lows, consider holding the position for an extended period.     - You have OHLCV data in durations of 1 minute, 1 hour and 1 day. Access all of them carefully.  ### Summary of Strategy Workflow 1. **Entry:**    - Pool age, FDV vs. Market Cap, consistent positive price changes, and volatility breakout.  2. **Position Sizing:**    - Start small, scale up as momentum confirms, and adapt based on recent trades.  3. **Mid-Trade Management:**    - Reassess every 12hr, use trailing stops, and adjust based on ATR.  4. **Longer Hold:**    - Use 24hr volume and MA trends to sustain the trade.  5. **Exit:**    - Based on profit targets, volume drops, increased sell transactions, or external events.\" # @param {type: \"string\"}\n",
    "decision_prompt_portfolio = \"You are a seasoned crypto memecoin portfolio manager on Solana. Your only focus and job is keep increasing profits for yourself.  You are managing a portfolio of memecoins.  You are about to take following decision on your portfolio. You must analyze each of them critically. Specially look at the amount you're about to invest in each coin. Look at the coin's FDV and mcap and analyse if it's the best way to invest.  Also, you can rebalance your portfolio by selling some coins and buying new ones. You can also hold some coins if you think they have potential to grow further.\" # @param {type: \"string\"}\n",
    "twitter_username = \"0xmonk\" # @param {type: \"string\"}\n",
    "fc_username = \"0xmonk\" # @param {type: \"string\"}\n",
    "max_investment_per_session = 0.2 # @param {type:\"slider\", min:0, max:1, step:0.01}\n",
    "stop_loss = 0.5 # @param {type:\"slider\", min:0, max:1, step:0.01}\n",
    "trailing_stop_loss = 0.3 # @param {type:\"slider\", min:0, max:1, step:0.01}\n",
    "take_profit = 1.0 # @param {type:\"number\"}\n",
    "\n",
    "# @markdown ### Simulation specific settings\n",
    "simulation = True # @param {type: \"boolean\"}\n",
    "simulation_initial_usd = 1000 # @param {type: \"number\"}"
   ]
  },
  {
   "cell_type": "code",
   "execution_count": null,
   "metadata": {
    "id": "tRM1z2l-sF8r"
   },
   "outputs": [],
   "source": [
    "\n",
    "def update_agent(disciple_id, **kwargs):\n",
    "\n",
    "  url = f\"https://api.fereai.xyz/ta/agent/{disciple_id}/\"\n",
    "\n",
    "  payload = json.dumps(kwargs)\n",
    "\n",
    "  response = requests.request(\"PATCH\", url, headers=api_headers, data=payload)\n",
    "\n",
    "  if response.status_code == 200:\n",
    "    return response.json()\n",
    "  else:\n",
    "    print(response.text)"
   ]
  },
  {
   "cell_type": "code",
   "execution_count": null,
   "metadata": {},
   "outputs": [],
   "source": [
    "# Set the agent to OnChain Mode\n",
    "disciple_id = \"\" # @param {type: \"string\"}\n",
    "\n",
    "updates = {\n",
    "    \"dry_run\": False,\n",
    "}\n",
    "\n",
    "update_agent(disciple_id, **updates)"
   ]
  },
  {
   "cell_type": "markdown",
   "metadata": {
    "id": "NdIeVel9sWUX"
   },
   "source": [
    "## 9. Delete the Agent"
   ]
  },
  {
   "cell_type": "code",
   "execution_count": null,
   "metadata": {
    "id": "zZBIoJzUsZJ4"
   },
   "outputs": [],
   "source": [
    "def delete_disciple(disciple_agent_id):\n",
    "  url = f\"https://api.fereai.xyz/ta/agent/{disciple_agent_id}/\"\n",
    "\n",
    "  payload = {}\n",
    "  response = requests.request(\"DELETE\", url, headers=api_headers, data=payload)\n",
    "\n",
    "  if response.status_code == 200:\n",
    "    return response.json()\n",
    "  else:\n",
    "    print(response.text)\n",
    "\n",
    "delete_disciple(disciple_agent_id)"
   ]
  }
 ],
 "metadata": {
  "colab": {
   "provenance": []
  },
  "kernelspec": {
   "display_name": "venv",
   "language": "python",
   "name": "python3"
  },
  "language_info": {
   "codemirror_mode": {
    "name": "ipython",
    "version": 3
   },
   "file_extension": ".py",
   "mimetype": "text/x-python",
   "name": "python",
   "nbconvert_exporter": "python",
   "pygments_lexer": "ipython3",
   "version": "3.12.3"
  }
 },
 "nbformat": 4,
 "nbformat_minor": 0
}
